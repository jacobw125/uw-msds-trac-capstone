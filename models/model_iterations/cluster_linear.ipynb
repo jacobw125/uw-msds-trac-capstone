{
 "cells": [
  {
   "cell_type": "code",
   "execution_count": 1,
   "metadata": {},
   "outputs": [
    {
     "name": "stdout",
     "output_type": "stream",
     "text": [
      "C:\\Users\\mstark\\Desktop\\uw-msds-trac-capstone\\data\\training_data\n"
     ]
    }
   ],
   "source": [
    "cd C:/Users/mstark/Desktop/uw-msds-trac-capstone/data/training_data/"
   ]
  },
  {
   "cell_type": "code",
   "execution_count": 2,
   "metadata": {},
   "outputs": [],
   "source": [
    "import numpy as np\n",
    "import pandas as pd\n",
    "from sklearn.svm import LinearSVR\n",
    "from sklearn.cluster import KMeans\n",
    "from sklearn.preprocessing import LabelEncoder, StandardScaler"
   ]
  },
  {
   "cell_type": "code",
   "execution_count": 3,
   "metadata": {},
   "outputs": [],
   "source": [
    "folders = ['winter_data/aggregates', 'summer_data/aggregates', 'combined_data'] \n",
    "aggregations = ['15', '30', 'hr']"
   ]
  },
  {
   "cell_type": "code",
   "execution_count": 7,
   "metadata": {},
   "outputs": [
    {
     "name": "stdout",
     "output_type": "stream",
     "text": [
      "Running: 3 cluster SVR on  winter_data/aggregates data w/ 15 min aggregation\n",
      "win\n",
      "Passenger count (orca, apc):\n",
      "orca_total     6168912.0\n",
      "ons           11175592.0\n",
      "dtype: float64\n"
     ]
    },
    {
     "name": "stderr",
     "output_type": "stream",
     "text": [
      "C:\\Users\\mstark\\Anaconda3\\lib\\site-packages\\ipykernel_launcher.py:39: SettingWithCopyWarning: \n",
      "A value is trying to be set on a copy of a slice from a DataFrame.\n",
      "Try using .loc[row_indexer,col_indexer] = value instead\n",
      "\n",
      "See the caveats in the documentation: http://pandas.pydata.org/pandas-docs/stable/indexing.html#indexing-view-versus-copy\n",
      "C:\\Users\\mstark\\Anaconda3\\lib\\site-packages\\ipykernel_launcher.py:40: SettingWithCopyWarning: \n",
      "A value is trying to be set on a copy of a slice from a DataFrame.\n",
      "Try using .loc[row_indexer,col_indexer] = value instead\n",
      "\n",
      "See the caveats in the documentation: http://pandas.pydata.org/pandas-docs/stable/indexing.html#indexing-view-versus-copy\n",
      "C:\\Users\\mstark\\Anaconda3\\lib\\site-packages\\ipykernel_launcher.py:41: SettingWithCopyWarning: \n",
      "A value is trying to be set on a copy of a slice from a DataFrame.\n",
      "Try using .loc[row_indexer,col_indexer] = value instead\n",
      "\n",
      "See the caveats in the documentation: http://pandas.pydata.org/pandas-docs/stable/indexing.html#indexing-view-versus-copy\n"
     ]
    },
    {
     "name": "stdout",
     "output_type": "stream",
     "text": [
      "clustering\n"
     ]
    },
    {
     "name": "stderr",
     "output_type": "stream",
     "text": [
      "C:\\Users\\mstark\\Anaconda3\\lib\\site-packages\\ipykernel_launcher.py:47: SettingWithCopyWarning: \n",
      "A value is trying to be set on a copy of a slice from a DataFrame.\n",
      "Try using .loc[row_indexer,col_indexer] = value instead\n",
      "\n",
      "See the caveats in the documentation: http://pandas.pydata.org/pandas-docs/stable/indexing.html#indexing-view-versus-copy\n",
      "C:\\Users\\mstark\\Anaconda3\\lib\\site-packages\\ipykernel_launcher.py:48: SettingWithCopyWarning: \n",
      "A value is trying to be set on a copy of a slice from a DataFrame.\n",
      "Try using .loc[row_indexer,col_indexer] = value instead\n",
      "\n",
      "See the caveats in the documentation: http://pandas.pydata.org/pandas-docs/stable/indexing.html#indexing-view-versus-copy\n",
      "C:\\Users\\mstark\\Anaconda3\\lib\\site-packages\\ipykernel_launcher.py:49: SettingWithCopyWarning: \n",
      "A value is trying to be set on a copy of a slice from a DataFrame.\n",
      "Try using .loc[row_indexer,col_indexer] = value instead\n",
      "\n",
      "See the caveats in the documentation: http://pandas.pydata.org/pandas-docs/stable/indexing.html#indexing-view-versus-copy\n"
     ]
    },
    {
     "name": "stdout",
     "output_type": "stream",
     "text": [
      "modeling\n"
     ]
    },
    {
     "name": "stderr",
     "output_type": "stream",
     "text": [
      "C:\\Users\\mstark\\Anaconda3\\lib\\site-packages\\ipykernel_launcher.py:64: SettingWithCopyWarning: \n",
      "A value is trying to be set on a copy of a slice from a DataFrame.\n",
      "Try using .loc[row_indexer,col_indexer] = value instead\n",
      "\n",
      "See the caveats in the documentation: http://pandas.pydata.org/pandas-docs/stable/indexing.html#indexing-view-versus-copy\n",
      "C:\\Users\\mstark\\Anaconda3\\lib\\site-packages\\ipykernel_launcher.py:65: SettingWithCopyWarning: \n",
      "A value is trying to be set on a copy of a slice from a DataFrame.\n",
      "Try using .loc[row_indexer,col_indexer] = value instead\n",
      "\n",
      "See the caveats in the documentation: http://pandas.pydata.org/pandas-docs/stable/indexing.html#indexing-view-versus-copy\n"
     ]
    },
    {
     "name": "stdout",
     "output_type": "stream",
     "text": [
      "modeling\n",
      "modeling\n",
      "Test MAE for all rtes =  10.505297394129808\n",
      "Validation MAE for all rtes =  10.419510898336403\n",
      "Running: 3 cluster SVR on  winter_data/aggregates data w/ 30 min aggregation\n",
      "win\n",
      "Passenger count (orca, apc):\n",
      "orca_total     6168912.0\n",
      "ons           11175592.0\n",
      "dtype: float64\n",
      "clustering\n",
      "modeling\n",
      "modeling\n",
      "modeling\n",
      "Test MAE for all rtes =  12.000406453549003\n",
      "Validation MAE for all rtes =  12.13776611396129\n",
      "Running: 3 cluster SVR on  summer_data/aggregates data w/ 15 min aggregation\n",
      "sum\n",
      "Passenger count (orca, apc):\n",
      "orca_total     6975490.0\n",
      "ons           15049216.0\n",
      "dtype: float64\n",
      "clustering\n",
      "modeling\n",
      "modeling\n",
      "modeling\n",
      "Test MAE for all rtes =  11.3901248306519\n",
      "Validation MAE for all rtes =  11.287546605534766\n",
      "Running: 3 cluster SVR on  summer_data/aggregates data w/ 30 min aggregation\n",
      "sum\n",
      "Passenger count (orca, apc):\n",
      "orca_total     6975490.0\n",
      "ons           15049216.0\n",
      "dtype: float64\n",
      "clustering\n",
      "modeling\n",
      "modeling\n",
      "modeling\n",
      "Test MAE for all rtes =  17.024264629406765\n",
      "Validation MAE for all rtes =  16.944444794854352\n",
      "Running: 3 cluster SVR on  combined_data data w/ 15 min aggregation\n",
      "com\n",
      "Passenger count (orca, apc):\n",
      "orca_total    13144402.0\n",
      "ons           26224808.0\n",
      "dtype: float64\n",
      "clustering\n",
      "modeling\n",
      "modeling\n",
      "modeling\n",
      "Test MAE for all rtes =  11.372595577171886\n",
      "Validation MAE for all rtes =  11.327556887793508\n",
      "Running: 3 cluster SVR on  combined_data data w/ 30 min aggregation\n",
      "com\n",
      "Passenger count (orca, apc):\n",
      "orca_total    13144402.0\n",
      "ons           26224808.0\n",
      "dtype: float64\n",
      "clustering\n",
      "modeling\n",
      "modeling\n",
      "modeling\n",
      "Test MAE for all rtes =  13.067553683136559\n",
      "Validation MAE for all rtes =  13.211547842536403\n"
     ]
    }
   ],
   "source": [
    "Model = []\n",
    "MAE_test = []\n",
    "MAE_val = []\n",
    "for f in folders:\n",
    "    for a in aggregations:\n",
    "        c = 3\n",
    "        \n",
    "        Model.append([f, a])\n",
    "        print('Running:', c, 'cluster SVR on ', f, 'data w/', a, 'min aggregation')\n",
    "        filepath = f + '/' + a + 'min/'\n",
    "        print(f[0:3])\n",
    "        train_set = pd.read_csv(filepath + 'train.tsv.gz', sep='\\t')\n",
    "        test_set = pd.read_csv(filepath + 'test.tsv.gz', sep='\\t')\n",
    "        val_set = pd.read_csv(filepath + 'xval.tsv.gz', sep='\\t')\n",
    "        \n",
    "        cols = list(train_set.columns)\n",
    "        cols.remove('is_rapid')\n",
    "        cols.remove('opd_date')\n",
    "        cols.remove('ons')\n",
    "        categorical_cols = ['dir', 'trip_start_hr_' + a , 'type', 'start', 'end', 'region']\n",
    "\n",
    "        X_train = train_set[cols]\n",
    "        Y_train = train_set['ons']\n",
    "        X_test = test_set[cols]\n",
    "        Y_test = test_set['ons']\n",
    "        X_val = val_set[cols]\n",
    "        Y_val = val_set['ons']\n",
    "        all_cols = cols + ['ons']\n",
    "        \n",
    "        full_set = train_set.append(test_set.append(val_set))[all_cols]\n",
    "        print('Passenger count (orca, apc):')\n",
    "        print(full_set[['orca_total', 'ons']].sum())\n",
    "        \n",
    "        le = LabelEncoder()\n",
    "\n",
    "        for cc in categorical_cols:\n",
    "            le.fit(train_set[cc])\n",
    "#             full_set[cc] = le.transform(full_set[cc])\n",
    "            X_train[cc] = le.transform(X_train[cc])\n",
    "            X_test[cc] = le.transform(X_test[cc])\n",
    "            X_val[cc] = le.transform(X_val[cc])\n",
    "        if c == 1:\n",
    "            print('skip clustering')\n",
    "        else:\n",
    "            print('clustering')\n",
    "            kmeans = KMeans(n_clusters=c, random_state=0).fit(X_train)\n",
    "            X_train['group'] = pd.Series(kmeans.labels_)\n",
    "            X_test['group'] = pd.Series(kmeans.predict(X_test))\n",
    "            X_val['group'] = pd.Series(kmeans.predict(X_val))\n",
    "        \n",
    "        for cluster in range(0, c):\n",
    "            \n",
    "            if c == 1:\n",
    "                X_0 = X_train[cols]\n",
    "                Y_0 = Y_train\n",
    "            else:\n",
    "                X_0 = X_train[X_train['group'] == cluster][cols]\n",
    "                Y_0 = Y_train[X_train['group'] == cluster]\n",
    "            \n",
    "            print('modeling')\n",
    "            regrs0 = LinearSVR(max_iter = 5000, tol = 1e-6)\n",
    "            regrs0.fit(X_0, Y_0)\n",
    "            \n",
    "            X_test['predictions'] = regrs0.predict(X_test[cols])\n",
    "            X_val['predictions'] = regrs0.predict(X_val[cols])\n",
    "            \n",
    "            if c == 1:\n",
    "                X_test['final'] = X_test['predictions']\n",
    "                X_val['final'] = X_val['predictions']\n",
    "            elif cluster == 0:\n",
    "                X_test['final'] = X_test['predictions'].where(X_test['group'] == cluster, None)\n",
    "                X_val['final'] = X_val['predictions'].where(X_val['group'] == cluster, None)\n",
    "            else:\n",
    "                X_test['final'] = X_test['predictions'].where(X_test['group'] == cluster, X_test['final'])\n",
    "                X_val['final'] = X_val['predictions'].where(X_val['group'] == cluster, X_val['final'])\n",
    "                \n",
    "        error_test = np.mean(np.abs(Y_test - X_test['final']))\n",
    "        MAE_test.append(error_test)\n",
    "        print('Test MAE for all rtes = ', error_test)\n",
    "        error_val = np.mean(np.abs(Y_val - X_val['final']))\n",
    "        MAE_val.append(error_val)\n",
    "        print('Validation MAE for all rtes = ', error_val)\n",
    "        \n",
    "        output_path = 'C:/Users/mstark/Desktop/uw-msds-trac-capstone/model/'\n",
    "        MyList = list(X_val['final'].astype(str))\n",
    "    \n",
    "        MyFile=open(output_path + str(c) + 'ClusterSVR' + '_' + a + 'min_' + f[0:3] + '.txt','w')\n",
    "        for element in MyList:\n",
    "            MyFile.write(element + '\\n')\n",
    "        MyFile.close() "
   ]
  },
  {
   "cell_type": "code",
   "execution_count": 8,
   "metadata": {},
   "outputs": [
    {
     "name": "stdout",
     "output_type": "stream",
     "text": [
      "[['winter_data/aggregates', '15'], ['winter_data/aggregates', '30'], ['summer_data/aggregates', '15'], ['summer_data/aggregates', '30'], ['combined_data', '15'], ['combined_data', '30']]\n",
      "[10.505297394129808, 12.000406453549003, 11.3901248306519, 17.024264629406765, 11.372595577171886, 13.067553683136559]\n",
      "[10.419510898336403, 12.13776611396129, 11.287546605534766, 16.944444794854352, 11.327556887793508, 13.211547842536403]\n"
     ]
    }
   ],
   "source": [
    "print(Model)\n",
    "print(MAE_test)\n",
    "print(MAE_val)"
   ]
  }
 ],
 "metadata": {
  "kernelspec": {
   "display_name": "Python 3",
   "language": "python",
   "name": "python3"
  },
  "language_info": {
   "codemirror_mode": {
    "name": "ipython",
    "version": 3
   },
   "file_extension": ".py",
   "mimetype": "text/x-python",
   "name": "python",
   "nbconvert_exporter": "python",
   "pygments_lexer": "ipython3",
   "version": "3.6.4"
  }
 },
 "nbformat": 4,
 "nbformat_minor": 2
}
