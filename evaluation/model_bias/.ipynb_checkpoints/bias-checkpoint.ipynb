{
 "cells": [
  {
   "cell_type": "code",
   "execution_count": 1,
   "metadata": {},
   "outputs": [],
   "source": [
    "# import packages\n",
    "import numpy as np\n",
    "import pandas as pd\n",
    "import scipy.stats as stats\n",
    "import matplotlib.pyplot as plt\n",
    "from statsmodels.stats.multicomp import pairwise_tukeyhsd, MultiComparison"
   ]
  },
  {
   "cell_type": "code",
   "execution_count": 2,
   "metadata": {},
   "outputs": [],
   "source": [
    "# set constants\n",
    "file_path = 'C:/Users/mstark/Desktop/uw-msds-trac-capstone/'\n",
    "agg_level = '15min'\n",
    "plt.style.use('seaborn')"
   ]
  },
  {
   "cell_type": "code",
   "execution_count": 3,
   "metadata": {},
   "outputs": [
    {
     "name": "stdout",
     "output_type": "stream",
     "text": [
      "(31534, 20)\n",
      "(31534, 1)\n"
     ]
    }
   ],
   "source": [
    "# read in test data, route clusters, and predictions\n",
    "cdata = pd.read_csv(file_path + 'data/training_data/combined_data/' + agg_level + '/test_no_rr.tsv.gz', delimiter='\\t')\n",
    "cdata['rte'] = cdata['rte'].astype(float)\n",
    "print(cdata.shape)\n",
    "\n",
    "rte_clusters = pd.read_csv(file_path + 'evaluation/cluster_rte_frequency/rte_clusters.tsv', delimiter='\\t')\n",
    "\n",
    "predictions = data = pd.read_csv(file_path + 'data/predictions/model_final_nn/final_nn_' +  agg_level + '_test.txt', sep=\" \", header=None)\n",
    "predictions.columns = ['predicted_ons']\n",
    "print(predictions.shape)"
   ]
  },
  {
   "cell_type": "code",
   "execution_count": 4,
   "metadata": {},
   "outputs": [
    {
     "name": "stdout",
     "output_type": "stream",
     "text": [
      "Features:  Index(['opd_date', 'trip_start_hr', 'rte', 'dir', 'day_of_week', 'is_ns',\n",
      "       'is_rapid', 'is_weekend', 'orca_total', 'frac_disabled', 'frac_youth',\n",
      "       'frac_senior', 'frac_li', 'frac_uw', 'ons', 'region', 'start', 'end',\n",
      "       'type', 'summer'],\n",
      "      dtype='object')\n",
      "Shape:  (31534, 20)\n",
      "True\n"
     ]
    }
   ],
   "source": [
    "# spot check\n",
    "print('Features: ', cdata.columns)\n",
    "print('Shape: ', cdata.shape)\n",
    "print(cdata.shape[0] == predictions.shape[0])"
   ]
  },
  {
   "cell_type": "code",
   "execution_count": 6,
   "metadata": {},
   "outputs": [
    {
     "data": {
      "text/html": [
       "<div>\n",
       "<style scoped>\n",
       "    .dataframe tbody tr th:only-of-type {\n",
       "        vertical-align: middle;\n",
       "    }\n",
       "\n",
       "    .dataframe tbody tr th {\n",
       "        vertical-align: top;\n",
       "    }\n",
       "\n",
       "    .dataframe thead th {\n",
       "        text-align: right;\n",
       "    }\n",
       "</style>\n",
       "<table border=\"1\" class=\"dataframe\">\n",
       "  <thead>\n",
       "    <tr style=\"text-align: right;\">\n",
       "      <th></th>\n",
       "      <th>rte</th>\n",
       "      <th>ntrips</th>\n",
       "      <th>trips_per_15</th>\n",
       "      <th>trip_freq</th>\n",
       "    </tr>\n",
       "  </thead>\n",
       "  <tbody>\n",
       "    <tr>\n",
       "      <th>0</th>\n",
       "      <td>48</td>\n",
       "      <td>4975</td>\n",
       "      <td>1.138965</td>\n",
       "      <td>high</td>\n",
       "    </tr>\n",
       "    <tr>\n",
       "      <th>1</th>\n",
       "      <td>45</td>\n",
       "      <td>4893</td>\n",
       "      <td>1.120192</td>\n",
       "      <td>high</td>\n",
       "    </tr>\n",
       "    <tr>\n",
       "      <th>2</th>\n",
       "      <td>674</td>\n",
       "      <td>4831</td>\n",
       "      <td>1.105998</td>\n",
       "      <td>high</td>\n",
       "    </tr>\n",
       "    <tr>\n",
       "      <th>3</th>\n",
       "      <td>675</td>\n",
       "      <td>4782</td>\n",
       "      <td>1.094780</td>\n",
       "      <td>high</td>\n",
       "    </tr>\n",
       "    <tr>\n",
       "      <th>4</th>\n",
       "      <td>673</td>\n",
       "      <td>4753</td>\n",
       "      <td>1.088141</td>\n",
       "      <td>high</td>\n",
       "    </tr>\n",
       "    <tr>\n",
       "      <th>5</th>\n",
       "      <td>62</td>\n",
       "      <td>4707</td>\n",
       "      <td>1.077610</td>\n",
       "      <td>high</td>\n",
       "    </tr>\n",
       "    <tr>\n",
       "      <th>6</th>\n",
       "      <td>8</td>\n",
       "      <td>4539</td>\n",
       "      <td>1.039148</td>\n",
       "      <td>high</td>\n",
       "    </tr>\n",
       "    <tr>\n",
       "      <th>7</th>\n",
       "      <td>671</td>\n",
       "      <td>4528</td>\n",
       "      <td>1.036630</td>\n",
       "      <td>high</td>\n",
       "    </tr>\n",
       "    <tr>\n",
       "      <th>8</th>\n",
       "      <td>36</td>\n",
       "      <td>4480</td>\n",
       "      <td>1.025641</td>\n",
       "      <td>high</td>\n",
       "    </tr>\n",
       "    <tr>\n",
       "      <th>9</th>\n",
       "      <td>7</td>\n",
       "      <td>4407</td>\n",
       "      <td>1.008929</td>\n",
       "      <td>high</td>\n",
       "    </tr>\n",
       "    <tr>\n",
       "      <th>10</th>\n",
       "      <td>70</td>\n",
       "      <td>4322</td>\n",
       "      <td>0.989469</td>\n",
       "      <td>high</td>\n",
       "    </tr>\n",
       "    <tr>\n",
       "      <th>11</th>\n",
       "      <td>676</td>\n",
       "      <td>4309</td>\n",
       "      <td>0.986493</td>\n",
       "      <td>high</td>\n",
       "    </tr>\n",
       "    <tr>\n",
       "      <th>12</th>\n",
       "      <td>44</td>\n",
       "      <td>4298</td>\n",
       "      <td>0.983974</td>\n",
       "      <td>high</td>\n",
       "    </tr>\n",
       "    <tr>\n",
       "      <th>13</th>\n",
       "      <td>49</td>\n",
       "      <td>4179</td>\n",
       "      <td>0.956731</td>\n",
       "      <td>high</td>\n",
       "    </tr>\n",
       "    <tr>\n",
       "      <th>14</th>\n",
       "      <td>10</td>\n",
       "      <td>4052</td>\n",
       "      <td>0.927656</td>\n",
       "      <td>high</td>\n",
       "    </tr>\n",
       "  </tbody>\n",
       "</table>\n",
       "</div>"
      ],
      "text/plain": [
       "    rte  ntrips  trips_per_15 trip_freq\n",
       "0    48    4975      1.138965      high\n",
       "1    45    4893      1.120192      high\n",
       "2   674    4831      1.105998      high\n",
       "3   675    4782      1.094780      high\n",
       "4   673    4753      1.088141      high\n",
       "5    62    4707      1.077610      high\n",
       "6     8    4539      1.039148      high\n",
       "7   671    4528      1.036630      high\n",
       "8    36    4480      1.025641      high\n",
       "9     7    4407      1.008929      high\n",
       "10   70    4322      0.989469      high\n",
       "11  676    4309      0.986493      high\n",
       "12   44    4298      0.983974      high\n",
       "13   49    4179      0.956731      high\n",
       "14   10    4052      0.927656      high"
      ]
     },
     "execution_count": 6,
     "metadata": {},
     "output_type": "execute_result"
    }
   ],
   "source": [
    "rte_clusters[rte_clusters['trip_freq'] == 'high']"
   ]
  },
  {
   "cell_type": "code",
   "execution_count": 7,
   "metadata": {},
   "outputs": [
    {
     "name": "stderr",
     "output_type": "stream",
     "text": [
      "C:\\Users\\mstark\\Anaconda3\\lib\\site-packages\\matplotlib\\cbook\\deprecation.py:106: MatplotlibDeprecationWarning: Adding an axes using the same arguments as a previous axes currently reuses the earlier instance.  In a future version, a new instance will always be created and returned.  Meanwhile, this warning can be suppressed, and the future behavior ensured, by passing a unique label to each axes instance.\n",
      "  warnings.warn(message, mplDeprecation, stacklevel=1)\n",
      "C:\\Users\\mstark\\Anaconda3\\lib\\site-packages\\numpy\\core\\fromnumeric.py:52: FutureWarning: reshape is deprecated and will raise in a subsequent release. Please use .values.reshape(...) instead\n",
      "  return getattr(obj, method)(*args, **kwds)\n"
     ]
    },
    {
     "data": {
      "image/png": "[encoded data removed]",
      "text/plain": [
       "<matplotlib.figure.Figure at 0x1f3c0e65748>"
      ]
     },
     "metadata": {},
     "output_type": "display_data"
    }
   ],
   "source": [
    "labels = ['high', 'med', 'low']\n",
    "high_freq = rte_clusters[rte_clusters['trip_freq'] == labels[0]]['trips_per_15']\n",
    "med_freq = rte_clusters[rte_clusters['trip_freq'] == labels[1]]['trips_per_15']\n",
    "low_freq = rte_clusters[rte_clusters['trip_freq'] == labels[2]]['trips_per_15']\n",
    "\n",
    "fig = plt.figure()\n",
    "ax = plt.subplot(111)\n",
    "ax = plt.subplot(111)\n",
    "plt.hist([high_freq, med_freq, low_freq], bins = 100)\n",
    "plt.title('Route Frequency Distribution')\n",
    "plt.ylabel('Route Count')\n",
    "plt.xlabel('Avg. Trip Frequency per 15min')\n",
    "ax.legend(labels)\n",
    "\n",
    "fig.savefig(file_path + 'evaluation/model_bias/plots/' + agg_level + '/RteFrequencyDistribution.png')"
   ]
  },
  {
   "cell_type": "code",
   "execution_count": 8,
   "metadata": {},
   "outputs": [
    {
     "data": {
      "text/html": [
       "<div>\n",
       "<style scoped>\n",
       "    .dataframe tbody tr th:only-of-type {\n",
       "        vertical-align: middle;\n",
       "    }\n",
       "\n",
       "    .dataframe tbody tr th {\n",
       "        vertical-align: top;\n",
       "    }\n",
       "\n",
       "    .dataframe thead th {\n",
       "        text-align: right;\n",
       "    }\n",
       "</style>\n",
       "<table border=\"1\" class=\"dataframe\">\n",
       "  <thead>\n",
       "    <tr style=\"text-align: right;\">\n",
       "      <th></th>\n",
       "      <th>opd_date</th>\n",
       "      <th>trip_start_hr</th>\n",
       "      <th>rte</th>\n",
       "      <th>dir</th>\n",
       "      <th>day_of_week</th>\n",
       "      <th>is_ns</th>\n",
       "      <th>is_rapid</th>\n",
       "      <th>is_weekend</th>\n",
       "      <th>orca_total</th>\n",
       "      <th>frac_disabled</th>\n",
       "      <th>...</th>\n",
       "      <th>region</th>\n",
       "      <th>start</th>\n",
       "      <th>end</th>\n",
       "      <th>type</th>\n",
       "      <th>summer</th>\n",
       "      <th>predicted_ons</th>\n",
       "      <th>ntrips</th>\n",
       "      <th>trips_per_15</th>\n",
       "      <th>trip_freq</th>\n",
       "      <th>diff</th>\n",
       "    </tr>\n",
       "  </thead>\n",
       "  <tbody>\n",
       "    <tr>\n",
       "      <th>0</th>\n",
       "      <td>2019-01-07</td>\n",
       "      <td>0</td>\n",
       "      <td>4</td>\n",
       "      <td>S</td>\n",
       "      <td>0</td>\n",
       "      <td>1.0</td>\n",
       "      <td>0.0</td>\n",
       "      <td>0.0</td>\n",
       "      <td>0.0</td>\n",
       "      <td>0.000000</td>\n",
       "      <td>...</td>\n",
       "      <td>Seattle</td>\n",
       "      <td>Seattle Pacific University</td>\n",
       "      <td>Judkins Park</td>\n",
       "      <td>Trolley</td>\n",
       "      <td>False</td>\n",
       "      <td>4.172112</td>\n",
       "      <td>2109</td>\n",
       "      <td>0.482830</td>\n",
       "      <td>med</td>\n",
       "      <td>1.172112</td>\n",
       "    </tr>\n",
       "    <tr>\n",
       "      <th>1</th>\n",
       "      <td>2019-01-07</td>\n",
       "      <td>0</td>\n",
       "      <td>8</td>\n",
       "      <td>W</td>\n",
       "      <td>0</td>\n",
       "      <td>0.0</td>\n",
       "      <td>0.0</td>\n",
       "      <td>0.0</td>\n",
       "      <td>0.0</td>\n",
       "      <td>0.000000</td>\n",
       "      <td>...</td>\n",
       "      <td>Seattle</td>\n",
       "      <td>Seattle Center</td>\n",
       "      <td>Mount Baker</td>\n",
       "      <td>Conventional</td>\n",
       "      <td>False</td>\n",
       "      <td>12.426135</td>\n",
       "      <td>4539</td>\n",
       "      <td>1.039148</td>\n",
       "      <td>high</td>\n",
       "      <td>7.426135</td>\n",
       "    </tr>\n",
       "    <tr>\n",
       "      <th>2</th>\n",
       "      <td>2019-01-07</td>\n",
       "      <td>0</td>\n",
       "      <td>36</td>\n",
       "      <td>S</td>\n",
       "      <td>0</td>\n",
       "      <td>1.0</td>\n",
       "      <td>0.0</td>\n",
       "      <td>0.0</td>\n",
       "      <td>10.0</td>\n",
       "      <td>0.018519</td>\n",
       "      <td>...</td>\n",
       "      <td>Seattle</td>\n",
       "      <td>Downtown Seattle</td>\n",
       "      <td>Othello Station</td>\n",
       "      <td>Trolley</td>\n",
       "      <td>False</td>\n",
       "      <td>31.754305</td>\n",
       "      <td>4480</td>\n",
       "      <td>1.025641</td>\n",
       "      <td>high</td>\n",
       "      <td>-31.245695</td>\n",
       "    </tr>\n",
       "    <tr>\n",
       "      <th>3</th>\n",
       "      <td>2019-01-07</td>\n",
       "      <td>0</td>\n",
       "      <td>40</td>\n",
       "      <td>S</td>\n",
       "      <td>0</td>\n",
       "      <td>1.0</td>\n",
       "      <td>0.0</td>\n",
       "      <td>0.0</td>\n",
       "      <td>0.0</td>\n",
       "      <td>0.000000</td>\n",
       "      <td>...</td>\n",
       "      <td>Seattle</td>\n",
       "      <td>Northgate Transit Center</td>\n",
       "      <td>Downtown Seattle</td>\n",
       "      <td>Conventional</td>\n",
       "      <td>False</td>\n",
       "      <td>13.624191</td>\n",
       "      <td>3038</td>\n",
       "      <td>0.695513</td>\n",
       "      <td>med</td>\n",
       "      <td>2.624191</td>\n",
       "    </tr>\n",
       "    <tr>\n",
       "      <th>4</th>\n",
       "      <td>2019-01-07</td>\n",
       "      <td>0</td>\n",
       "      <td>45</td>\n",
       "      <td>W</td>\n",
       "      <td>0</td>\n",
       "      <td>0.0</td>\n",
       "      <td>0.0</td>\n",
       "      <td>0.0</td>\n",
       "      <td>18.0</td>\n",
       "      <td>0.000000</td>\n",
       "      <td>...</td>\n",
       "      <td>Seattle</td>\n",
       "      <td>Loyal Heights</td>\n",
       "      <td>University District</td>\n",
       "      <td>Conventional</td>\n",
       "      <td>False</td>\n",
       "      <td>37.694351</td>\n",
       "      <td>4893</td>\n",
       "      <td>1.120192</td>\n",
       "      <td>high</td>\n",
       "      <td>-4.305649</td>\n",
       "    </tr>\n",
       "  </tbody>\n",
       "</table>\n",
       "<p>5 rows × 25 columns</p>\n",
       "</div>"
      ],
      "text/plain": [
       "     opd_date  trip_start_hr rte dir  day_of_week  is_ns  is_rapid  \\\n",
       "0  2019-01-07              0   4   S            0    1.0       0.0   \n",
       "1  2019-01-07              0   8   W            0    0.0       0.0   \n",
       "2  2019-01-07              0  36   S            0    1.0       0.0   \n",
       "3  2019-01-07              0  40   S            0    1.0       0.0   \n",
       "4  2019-01-07              0  45   W            0    0.0       0.0   \n",
       "\n",
       "   is_weekend  orca_total  frac_disabled    ...       region  \\\n",
       "0         0.0         0.0       0.000000    ...      Seattle   \n",
       "1         0.0         0.0       0.000000    ...      Seattle   \n",
       "2         0.0        10.0       0.018519    ...      Seattle   \n",
       "3         0.0         0.0       0.000000    ...      Seattle   \n",
       "4         0.0        18.0       0.000000    ...      Seattle   \n",
       "\n",
       "                        start                  end          type  summer  \\\n",
       "0  Seattle Pacific University         Judkins Park       Trolley   False   \n",
       "1              Seattle Center          Mount Baker  Conventional   False   \n",
       "2            Downtown Seattle      Othello Station       Trolley   False   \n",
       "3    Northgate Transit Center     Downtown Seattle  Conventional   False   \n",
       "4               Loyal Heights  University District  Conventional   False   \n",
       "\n",
       "  predicted_ons ntrips trips_per_15 trip_freq       diff  \n",
       "0      4.172112   2109     0.482830       med   1.172112  \n",
       "1     12.426135   4539     1.039148      high   7.426135  \n",
       "2     31.754305   4480     1.025641      high -31.245695  \n",
       "3     13.624191   3038     0.695513       med   2.624191  \n",
       "4     37.694351   4893     1.120192      high  -4.305649  \n",
       "\n",
       "[5 rows x 25 columns]"
      ]
     },
     "execution_count": 8,
     "metadata": {},
     "output_type": "execute_result"
    }
   ],
   "source": [
    "# merge test, predictions, and clusters\n",
    "cdata['predicted_ons'] = predictions\n",
    "cdata = pd.merge(cdata, rte_clusters, left_on='rte', right_on='rte', how = 'left')\n",
    "cdata['diff'] = cdata['predicted_ons'] - cdata['ons']\n",
    "cdata.head()"
   ]
  },
  {
   "cell_type": "code",
   "execution_count": 9,
   "metadata": {},
   "outputs": [
    {
     "data": {
      "text/plain": [
       "(0, 25)"
      ]
     },
     "execution_count": 9,
     "metadata": {},
     "output_type": "execute_result"
    }
   ],
   "source": [
    "# validate merging\n",
    "cdata[cdata['trip_freq'].isna()].shape"
   ]
  },
  {
   "cell_type": "markdown",
   "metadata": {},
   "source": [
    "# <center> Route Clusters <center>"
   ]
  },
  {
   "cell_type": "code",
   "execution_count": 10,
   "metadata": {},
   "outputs": [
    {
     "data": {
      "text/html": [
       "<div>\n",
       "<style scoped>\n",
       "    .dataframe tbody tr th:only-of-type {\n",
       "        vertical-align: middle;\n",
       "    }\n",
       "\n",
       "    .dataframe tbody tr th {\n",
       "        vertical-align: top;\n",
       "    }\n",
       "\n",
       "    .dataframe thead tr th {\n",
       "        text-align: left;\n",
       "    }\n",
       "</style>\n",
       "<table border=\"1\" class=\"dataframe\">\n",
       "  <thead>\n",
       "    <tr>\n",
       "      <th></th>\n",
       "      <th>trip_freq</th>\n",
       "      <th colspan=\"5\" halign=\"left\">diff</th>\n",
       "    </tr>\n",
       "    <tr>\n",
       "      <th></th>\n",
       "      <th></th>\n",
       "      <th>count</th>\n",
       "      <th>sum</th>\n",
       "      <th>median</th>\n",
       "      <th>mean</th>\n",
       "      <th>std</th>\n",
       "    </tr>\n",
       "  </thead>\n",
       "  <tbody>\n",
       "    <tr>\n",
       "      <th>0</th>\n",
       "      <td>high</td>\n",
       "      <td>4341</td>\n",
       "      <td>-2188.756494</td>\n",
       "      <td>1.724501</td>\n",
       "      <td>-0.504206</td>\n",
       "      <td>19.620282</td>\n",
       "    </tr>\n",
       "    <tr>\n",
       "      <th>1</th>\n",
       "      <td>low</td>\n",
       "      <td>8585</td>\n",
       "      <td>-11750.328358</td>\n",
       "      <td>0.481563</td>\n",
       "      <td>-1.368705</td>\n",
       "      <td>12.238229</td>\n",
       "    </tr>\n",
       "    <tr>\n",
       "      <th>2</th>\n",
       "      <td>med</td>\n",
       "      <td>18608</td>\n",
       "      <td>-15855.661672</td>\n",
       "      <td>0.910004</td>\n",
       "      <td>-0.852088</td>\n",
       "      <td>19.513293</td>\n",
       "    </tr>\n",
       "  </tbody>\n",
       "</table>\n",
       "</div>"
      ],
      "text/plain": [
       "  trip_freq   diff                                             \n",
       "             count           sum    median      mean        std\n",
       "0      high   4341  -2188.756494  1.724501 -0.504206  19.620282\n",
       "1       low   8585 -11750.328358  0.481563 -1.368705  12.238229\n",
       "2       med  18608 -15855.661672  0.910004 -0.852088  19.513293"
      ]
     },
     "execution_count": 10,
     "metadata": {},
     "output_type": "execute_result"
    }
   ],
   "source": [
    "# show summary statistics\n",
    "freq_summary = cdata[['diff', 'trip_freq']].groupby(['trip_freq']).agg(['count', 'sum', 'median', 'mean', 'std']).reset_index()\n",
    "freq_summary.head()"
   ]
  },
  {
   "cell_type": "code",
   "execution_count": 11,
   "metadata": {
    "scrolled": true
   },
   "outputs": [
    {
     "name": "stderr",
     "output_type": "stream",
     "text": [
      "C:\\Users\\mstark\\Anaconda3\\lib\\site-packages\\numpy\\core\\fromnumeric.py:52: FutureWarning: reshape is deprecated and will raise in a subsequent release. Please use .values.reshape(...) instead\n",
      "  return getattr(obj, method)(*args, **kwds)\n"
     ]
    },
    {
     "data": {
      "image/png": "[encoded data removed]",
      "text/plain": [
       "<matplotlib.figure.Figure at 0x1f3c0e65668>"
      ]
     },
     "metadata": {},
     "output_type": "display_data"
    }
   ],
   "source": [
    "# Plot route cluster distributions\n",
    "labels = ['high', 'med', 'low']\n",
    "high_freq = cdata[cdata['trip_freq'] == labels[0]]['diff']\n",
    "med_freq = cdata[cdata['trip_freq'] == labels[1]]['diff']\n",
    "low_freq = cdata[cdata['trip_freq'] == labels[2]]['diff']\n",
    "\n",
    "fig = plt.figure()\n",
    "ax = plt.subplot(111)\n",
    "plt.hist([high_freq, med_freq, low_freq], bins = 100)\n",
    "plt.title('Route Cluster Difference Distribution')\n",
    "plt.ylabel('Route Count')\n",
    "plt.xlabel('Difference [Predicted - Actual]')\n",
    "plt.xlim(-75, 75)\n",
    "ax.legend(labels)\n",
    "\n",
    "fig.savefig(file_path + 'evaluation/model_bias/plots/' + agg_level + '/RteClusterDistribution.png')"
   ]
  },
  {
   "cell_type": "code",
   "execution_count": 12,
   "metadata": {},
   "outputs": [
    {
     "data": {
      "image/png": "[encoded data removed]",
      "text/plain": [
       "<matplotlib.figure.Figure at 0x1f3c20ce208>"
      ]
     },
     "metadata": {},
     "output_type": "display_data"
    }
   ],
   "source": [
    "# Scatter Difference vs. Ons to see possible correlation\n",
    "\n",
    "fig, ax = plt.subplots()\n",
    "ax.margins(0.05) # Optional, just adds 5% padding to the autoscaling\n",
    "for x in labels:\n",
    "    data = cdata[cdata['trip_freq'] == x]\n",
    "    ax.plot(data['diff'], data['ons'], marker='o', linestyle='', ms=5, label=x)\n",
    "ax.legend()\n",
    "plt.ylabel('Actual')\n",
    "plt.xlabel('Difference [Predicted - Actual]')\n",
    "plt.show()\n",
    "\n",
    "fig.savefig(file_path + 'evaluation/model_bias/plots/' + agg_level + '/OnsvsPredictedScatter.png')"
   ]
  },
  {
   "cell_type": "code",
   "execution_count": 13,
   "metadata": {},
   "outputs": [
    {
     "name": "stdout",
     "output_type": "stream",
     "text": [
      "One-way ANOVA\n",
      "=============\n",
      "F value: 3.9963004288321784\n",
      "P value: 0.018392836413543067 \n",
      "\n"
     ]
    }
   ],
   "source": [
    "### One-way ANOVA test\n",
    "### Null hypothesis = Groups have the same population mean. \n",
    "### Low P-value = reject\n",
    "\n",
    "f, p = stats.f_oneway(high_freq, med_freq, low_freq)\n",
    "print ('One-way ANOVA')\n",
    "print ('=============')\n",
    "print ('F value:', f)\n",
    "print ('P value:', p, '\\n')"
   ]
  },
  {
   "attachments": {},
   "cell_type": "markdown",
   "metadata": {},
   "source": [
    "### 15min: Reject\n",
    "F value: 63.266086994847214  \n",
    "P value: 3.571252471016062e-28 "
   ]
  },
  {
   "cell_type": "code",
   "execution_count": 14,
   "metadata": {
    "scrolled": true
   },
   "outputs": [
    {
     "name": "stdout",
     "output_type": "stream",
     "text": [
      "Multiple Comparison of Means - Tukey HSD,FWER=0.05\n",
      "=============================================\n",
      "group1 group2 meandiff  lower   upper  reject\n",
      "---------------------------------------------\n",
      " high   low   -0.8645  -1.6435 -0.0855  True \n",
      " high   med   -0.3479  -1.0529  0.3571 False \n",
      " low    med    0.5166  -0.0291  1.0623 False \n",
      "---------------------------------------------\n"
     ]
    }
   ],
   "source": [
    "mc = MultiComparison(cdata['diff'], cdata['trip_freq'])\n",
    "result = mc.tukeyhsd()\n",
    "print(result)"
   ]
  },
  {
   "attachments": {
    "image.png": {
     "image/png": "[encoded data removed]"
    }
   },
   "cell_type": "markdown",
   "metadata": {},
   "source": [
    "### 15min: High Frequency Different\n",
    "![image.png](attachment:image.png)"
   ]
  },
  {
   "cell_type": "markdown",
   "metadata": {},
   "source": [
    "# <center> Top 10 Routes vs. Bottom 10 Routes <center>"
   ]
  },
  {
   "cell_type": "code",
   "execution_count": 15,
   "metadata": {},
   "outputs": [
    {
     "name": "stdout",
     "output_type": "stream",
     "text": [
      "Top 10 Underestimated Routes\n",
      "       rte trip_freq   diffmean    diffstd  diffcount\n",
      "142  312.0       low -14.828139  37.532537         73\n",
      "111  219.0       low -10.284561  23.472081         39\n",
      "110  218.0       low  -8.951261  26.725638         47\n",
      "136  301.0       low  -8.318762  17.659974         67\n",
      "151  355.0       low  -7.804755  16.931092         36\n",
      "60   111.0       low  -7.480709  21.904394         53\n",
      "146  342.0       low  -7.261596  18.726206         25\n",
      "137  303.0       low  -7.157735  23.419057         67\n",
      "53    77.0       low  -7.012378  21.120097         47\n",
      "141  311.0       low  -6.724730  25.032506         63 \n",
      "\n",
      "Top 10 Overestimated Routes\n",
      "       rte trip_freq  diffmean    diffstd  diffcount\n",
      "162  556.0       low  8.699935  27.088753         61\n",
      "159  550.0       med  4.005987  53.486834        451\n",
      "157  542.0       med  3.388665  31.032184        310\n",
      "134  271.0       med  3.172905  25.939764        365\n",
      "155  540.0       low  2.808971  17.265833         56\n",
      "33    45.0      high  2.559906  16.163700        444\n",
      "103  201.0       low  1.543901   0.142515          3\n",
      "7      9.0       low  1.511741   5.265346         44\n",
      "54    78.0       low  1.387971   3.557692         34\n",
      "114  226.0       med  1.220294   8.738843        389 \n",
      "\n"
     ]
    }
   ],
   "source": [
    "rte_summary = cdata[['rte', 'diff', 'trip_freq']].groupby(['rte', 'trip_freq']).agg(['mean', 'std', 'count']).reset_index()\n",
    "rte_summary.columns = rte_summary.columns.map(''.join)\n",
    "rte_summary = rte_summary.sort_values('diffmean')\n",
    "print('Top 10 Underestimated Routes')\n",
    "print(rte_summary.head(10).sort_values('diffmean', ascending = True), '\\n')\n",
    "print('Top 10 Overestimated Routes')\n",
    "print(rte_summary.tail(10).sort_values('diffmean', ascending = False), '\\n')"
   ]
  },
  {
   "cell_type": "code",
   "execution_count": 16,
   "metadata": {},
   "outputs": [
    {
     "data": {
      "image/png": "[encoded data removed]",
      "text/plain": [
       "<matplotlib.figure.Figure at 0x1f3c306c4e0>"
      ]
     },
     "metadata": {},
     "output_type": "display_data"
    }
   ],
   "source": [
    "fig, ax = plt.subplots()\n",
    "for x in labels:\n",
    "    data = rte_summary[rte_summary['trip_freq'] == x]\n",
    "    ax.plot(data['diffcount'], data['diffmean'], marker='o', linestyle='', ms=5, label=x)\n",
    "ax.plot(rte_summary['diffcount'].head(10), rte_summary['diffmean'].head(10),\n",
    "        marker='s', linestyle='', ms=6, color='red', label='Underestimated')\n",
    "ax.plot(rte_summary['diffcount'].tail(10), rte_summary['diffmean'].tail(10),\n",
    "        marker='s', linestyle='', ms=6, color='green', label='Overestimated')\n",
    "plt.xlabel('Route Count')\n",
    "plt.ylabel('Difference [Predicted - Actual]')\n",
    "ax.legend()\n",
    "plt.show()\n",
    "\n",
    "fig.savefig(file_path + 'evaluation/model_bias/plots/' + agg_level + '/OverUnderRtes.png')"
   ]
  },
  {
   "cell_type": "code",
   "execution_count": 17,
   "metadata": {},
   "outputs": [
    {
     "data": {
      "image/png": "[encoded data removed]",
      "text/plain": [
       "<matplotlib.figure.Figure at 0x1f3c3087c88>"
      ]
     },
     "metadata": {},
     "output_type": "display_data"
    }
   ],
   "source": [
    "# Plot route cluster distributions\n",
    "fig = plt.figure()\n",
    "ax = plt.subplot(111)\n",
    "plt.hist(rte_summary['diffmean'], bins = 20)\n",
    "plt.title('Route Avg. Difference Distribution')\n",
    "ax.legend('All Rtes')\n",
    "plt.ylabel('Route Count')\n",
    "plt.xlabel('Avg. Difference [Predicted - Actual]')\n",
    "\n",
    "fig.savefig(file_path + 'evaluation/model_bias/plots/' + agg_level + '/RteAvgDistribution_1.png')"
   ]
  },
  {
   "cell_type": "code",
   "execution_count": 18,
   "metadata": {},
   "outputs": [
    {
     "name": "stderr",
     "output_type": "stream",
     "text": [
      "C:\\Users\\mstark\\Anaconda3\\lib\\site-packages\\numpy\\core\\fromnumeric.py:52: FutureWarning: reshape is deprecated and will raise in a subsequent release. Please use .values.reshape(...) instead\n",
      "  return getattr(obj, method)(*args, **kwds)\n"
     ]
    },
    {
     "data": {
      "image/png": "[encoded data removed]",
      "text/plain": [
       "<matplotlib.figure.Figure at 0x1f3c0ddadd8>"
      ]
     },
     "metadata": {},
     "output_type": "display_data"
    }
   ],
   "source": [
    "# Plot route cluster distributions\n",
    "high_freq = rte_summary[rte_summary['trip_freq'] == labels[0]]['diffmean']\n",
    "med_freq = rte_summary[rte_summary['trip_freq'] == labels[1]]['diffmean']\n",
    "low_freq = rte_summary[rte_summary['trip_freq'] == labels[2]]['diffmean']\n",
    "\n",
    "fig = plt.figure()\n",
    "ax = plt.subplot(111)\n",
    "plt.hist([high_freq, med_freq, low_freq], bins = 20)\n",
    "plt.title('Route Avg. Difference Distribution by Cluster')\n",
    "plt.ylabel('Route Count')\n",
    "plt.xlabel('Difference [Predicted - Actual]')\n",
    "ax.legend(labels)\n",
    "\n",
    "fig.savefig(file_path + 'evaluation/model_bias/plots/' + agg_level + '/RteAvgDistribution_2.png')"
   ]
  },
  {
   "cell_type": "code",
   "execution_count": 19,
   "metadata": {},
   "outputs": [
    {
     "name": "stdout",
     "output_type": "stream",
     "text": [
      "One-way ANOVA\n",
      "=============\n",
      "F value: 3.0936549313473622\n",
      "P value: 0.048058475379595324 \n",
      "\n"
     ]
    }
   ],
   "source": [
    "f, p = stats.f_oneway(high_freq, med_freq, low_freq)\n",
    "print ('One-way ANOVA')\n",
    "print ('=============')\n",
    "print ('F value:', f)\n",
    "print ('P value:', p, '\\n')"
   ]
  },
  {
   "attachments": {},
   "cell_type": "markdown",
   "metadata": {},
   "source": [
    "### 15min: Reject\n",
    "F value: 5.388284408200405  \n",
    "P value: 0.005436706938802968 "
   ]
  },
  {
   "cell_type": "code",
   "execution_count": 20,
   "metadata": {},
   "outputs": [
    {
     "name": "stdout",
     "output_type": "stream",
     "text": [
      "Multiple Comparison of Means - Tukey HSD,FWER=0.05\n",
      "============================================\n",
      "group1 group2 meandiff  lower  upper  reject\n",
      "--------------------------------------------\n",
      " high   low   -1.3995  -3.5674 0.7683 False \n",
      " high   med   -0.3616  -2.6196 1.8964 False \n",
      " low    med    1.0379  -0.0782 2.154  False \n",
      "--------------------------------------------\n"
     ]
    }
   ],
   "source": [
    "mc = MultiComparison(rte_summary['diffmean'], rte_summary['trip_freq'])\n",
    "result = mc.tukeyhsd()\n",
    "print(result)"
   ]
  },
  {
   "cell_type": "markdown",
   "metadata": {},
   "source": [
    "# <center> Region <center>"
   ]
  },
  {
   "cell_type": "code",
   "execution_count": 21,
   "metadata": {},
   "outputs": [
    {
     "data": {
      "text/html": [
       "<div>\n",
       "<style scoped>\n",
       "    .dataframe tbody tr th:only-of-type {\n",
       "        vertical-align: middle;\n",
       "    }\n",
       "\n",
       "    .dataframe tbody tr th {\n",
       "        vertical-align: top;\n",
       "    }\n",
       "\n",
       "    .dataframe thead tr th {\n",
       "        text-align: left;\n",
       "    }\n",
       "</style>\n",
       "<table border=\"1\" class=\"dataframe\">\n",
       "  <thead>\n",
       "    <tr>\n",
       "      <th></th>\n",
       "      <th>region</th>\n",
       "      <th colspan=\"5\" halign=\"left\">diff</th>\n",
       "    </tr>\n",
       "    <tr>\n",
       "      <th></th>\n",
       "      <th></th>\n",
       "      <th>count</th>\n",
       "      <th>sum</th>\n",
       "      <th>median</th>\n",
       "      <th>mean</th>\n",
       "      <th>std</th>\n",
       "    </tr>\n",
       "  </thead>\n",
       "  <tbody>\n",
       "    <tr>\n",
       "      <th>0</th>\n",
       "      <td>East King County</td>\n",
       "      <td>5810</td>\n",
       "      <td>-3748.831285</td>\n",
       "      <td>0.739584</td>\n",
       "      <td>-0.645238</td>\n",
       "      <td>12.744904</td>\n",
       "    </tr>\n",
       "    <tr>\n",
       "      <th>1</th>\n",
       "      <td>Express</td>\n",
       "      <td>2210</td>\n",
       "      <td>1652.078362</td>\n",
       "      <td>2.328107</td>\n",
       "      <td>0.747547</td>\n",
       "      <td>43.835424</td>\n",
       "    </tr>\n",
       "    <tr>\n",
       "      <th>2</th>\n",
       "      <td>North King County</td>\n",
       "      <td>2208</td>\n",
       "      <td>-4547.469414</td>\n",
       "      <td>0.416355</td>\n",
       "      <td>-2.059542</td>\n",
       "      <td>12.972724</td>\n",
       "    </tr>\n",
       "    <tr>\n",
       "      <th>3</th>\n",
       "      <td>Seattle</td>\n",
       "      <td>13818</td>\n",
       "      <td>-18475.792479</td>\n",
       "      <td>0.962078</td>\n",
       "      <td>-1.337082</td>\n",
       "      <td>16.183384</td>\n",
       "    </tr>\n",
       "    <tr>\n",
       "      <th>4</th>\n",
       "      <td>South King County</td>\n",
       "      <td>7488</td>\n",
       "      <td>-4674.731707</td>\n",
       "      <td>0.762179</td>\n",
       "      <td>-0.624296</td>\n",
       "      <td>10.673867</td>\n",
       "    </tr>\n",
       "  </tbody>\n",
       "</table>\n",
       "</div>"
      ],
      "text/plain": [
       "              region   diff                                             \n",
       "                      count           sum    median      mean        std\n",
       "0   East King County   5810  -3748.831285  0.739584 -0.645238  12.744904\n",
       "1            Express   2210   1652.078362  2.328107  0.747547  43.835424\n",
       "2  North King County   2208  -4547.469414  0.416355 -2.059542  12.972724\n",
       "3            Seattle  13818 -18475.792479  0.962078 -1.337082  16.183384\n",
       "4  South King County   7488  -4674.731707  0.762179 -0.624296  10.673867"
      ]
     },
     "execution_count": 21,
     "metadata": {},
     "output_type": "execute_result"
    }
   ],
   "source": [
    "region_summary = cdata[['diff', 'region']].groupby(['region']).agg(['count', 'sum', 'median', 'mean', 'std']).reset_index()\n",
    "region_summary"
   ]
  },
  {
   "cell_type": "code",
   "execution_count": 22,
   "metadata": {},
   "outputs": [
    {
     "data": {
      "image/png": "[encoded data removed]",
      "text/plain": [
       "<matplotlib.figure.Figure at 0x1f3c2668b38>"
      ]
     },
     "metadata": {},
     "output_type": "display_data"
    }
   ],
   "source": [
    "regions = region_summary['region']\n",
    "\n",
    "fig=plt.figure()\n",
    "i = 1\n",
    "for r in regions:\n",
    "    ax=fig.add_subplot(3,2,i)\n",
    "    cdata[cdata['region'] == r]['diff'].hist(bins=100,ax=ax)\n",
    "    plt.xlim(-100, 100)\n",
    "    ax.set_title(r + \" Distribution\")\n",
    "    i += 1\n",
    "fig.tight_layout()  # Improves appearance a bit.\n",
    "plt.show()\n",
    "\n",
    "fig.savefig(file_path + 'evaluation/model_bias/plots/' + agg_level + '/RegionDistributions.png')"
   ]
  },
  {
   "cell_type": "code",
   "execution_count": 23,
   "metadata": {},
   "outputs": [
    {
     "name": "stdout",
     "output_type": "stream",
     "text": [
      "One-way ANOVA\n",
      "=============\n",
      "F value: 9.814314278153365\n",
      "P value: 6.232377454893227e-08 \n",
      "\n"
     ]
    }
   ],
   "source": [
    "EKC = cdata[cdata['region'] == regions[0]]['diff']\n",
    "Express = cdata[cdata['region'] == regions[1]]['diff']\n",
    "NKC = cdata[cdata['region'] == regions[2]]['diff']\n",
    "Seattle = cdata[cdata['region'] == regions[3]]['diff']\n",
    "SKC = cdata[cdata['region'] == regions[4]]['diff']\n",
    "\n",
    "f, p = stats.f_oneway(EKC, Express, NKC, Seattle, SKC)\n",
    "print ('One-way ANOVA')\n",
    "print ('=============')\n",
    "print ('F value:', f)\n",
    "print ('P value:', p, '\\n')"
   ]
  },
  {
   "attachments": {},
   "cell_type": "markdown",
   "metadata": {},
   "source": [
    "### 15min: Reject\n",
    "F value: 37.51735925601046  \n",
    "P value: 2.155093345662146e-31"
   ]
  },
  {
   "cell_type": "code",
   "execution_count": 24,
   "metadata": {},
   "outputs": [
    {
     "name": "stdout",
     "output_type": "stream",
     "text": [
      "         Multiple Comparison of Means - Tukey HSD,FWER=0.05        \n",
      "===================================================================\n",
      "      group1            group2      meandiff  lower   upper  reject\n",
      "-------------------------------------------------------------------\n",
      " East King County      Express       1.3928   0.1767  2.6089  True \n",
      " East King County North King County -1.4143  -2.6308 -0.1978  True \n",
      " East King County      Seattle      -0.6918  -1.4527  0.069  False \n",
      " East King County South King County  0.0209  -0.8298  0.8716 False \n",
      "     Express      North King County -2.8071  -4.2712  -1.343  True \n",
      "     Express           Seattle      -2.0846  -3.1994 -0.9699  True \n",
      "     Express      South King County -1.3718  -2.5498 -0.1939  True \n",
      "North King County      Seattle       0.7225  -0.3927  1.8376 False \n",
      "North King County South King County  1.4352   0.2569  2.6136  True \n",
      "     Seattle      South King County  0.7128   0.0146  1.411   True \n",
      "-------------------------------------------------------------------\n"
     ]
    }
   ],
   "source": [
    "mc = MultiComparison(cdata['diff'], cdata['region'])\n",
    "result = mc.tukeyhsd()\n",
    "print(result)"
   ]
  },
  {
   "cell_type": "markdown",
   "metadata": {},
   "source": [
    "# <center> Region vs. Cluster <center>"
   ]
  },
  {
   "cell_type": "code",
   "execution_count": 25,
   "metadata": {},
   "outputs": [
    {
     "data": {
      "text/html": [
       "<div>\n",
       "<style scoped>\n",
       "    .dataframe tbody tr th:only-of-type {\n",
       "        vertical-align: middle;\n",
       "    }\n",
       "\n",
       "    .dataframe tbody tr th {\n",
       "        vertical-align: top;\n",
       "    }\n",
       "\n",
       "    .dataframe thead tr th {\n",
       "        text-align: left;\n",
       "    }\n",
       "</style>\n",
       "<table border=\"1\" class=\"dataframe\">\n",
       "  <thead>\n",
       "    <tr>\n",
       "      <th></th>\n",
       "      <th>region</th>\n",
       "      <th>trip_freq</th>\n",
       "      <th colspan=\"5\" halign=\"left\">diff</th>\n",
       "    </tr>\n",
       "    <tr>\n",
       "      <th></th>\n",
       "      <th></th>\n",
       "      <th></th>\n",
       "      <th>count</th>\n",
       "      <th>sum</th>\n",
       "      <th>median</th>\n",
       "      <th>mean</th>\n",
       "      <th>std</th>\n",
       "    </tr>\n",
       "  </thead>\n",
       "  <tbody>\n",
       "    <tr>\n",
       "      <th>0</th>\n",
       "      <td>East King County</td>\n",
       "      <td>low</td>\n",
       "      <td>1772</td>\n",
       "      <td>-2426.026383</td>\n",
       "      <td>0.399576</td>\n",
       "      <td>-1.369089</td>\n",
       "      <td>11.307608</td>\n",
       "    </tr>\n",
       "    <tr>\n",
       "      <th>1</th>\n",
       "      <td>East King County</td>\n",
       "      <td>med</td>\n",
       "      <td>4038</td>\n",
       "      <td>-1322.804903</td>\n",
       "      <td>0.940058</td>\n",
       "      <td>-0.327589</td>\n",
       "      <td>13.315695</td>\n",
       "    </tr>\n",
       "    <tr>\n",
       "      <th>2</th>\n",
       "      <td>Express</td>\n",
       "      <td>low</td>\n",
       "      <td>289</td>\n",
       "      <td>-56.420886</td>\n",
       "      <td>1.830254</td>\n",
       "      <td>-0.195228</td>\n",
       "      <td>23.588921</td>\n",
       "    </tr>\n",
       "    <tr>\n",
       "      <th>3</th>\n",
       "      <td>Express</td>\n",
       "      <td>med</td>\n",
       "      <td>1921</td>\n",
       "      <td>1708.499247</td>\n",
       "      <td>2.350792</td>\n",
       "      <td>0.889380</td>\n",
       "      <td>46.121116</td>\n",
       "    </tr>\n",
       "    <tr>\n",
       "      <th>4</th>\n",
       "      <td>North King County</td>\n",
       "      <td>low</td>\n",
       "      <td>911</td>\n",
       "      <td>-3427.414602</td>\n",
       "      <td>0.174095</td>\n",
       "      <td>-3.762255</td>\n",
       "      <td>16.960622</td>\n",
       "    </tr>\n",
       "    <tr>\n",
       "      <th>5</th>\n",
       "      <td>North King County</td>\n",
       "      <td>med</td>\n",
       "      <td>1297</td>\n",
       "      <td>-1120.054812</td>\n",
       "      <td>0.623466</td>\n",
       "      <td>-0.863573</td>\n",
       "      <td>9.007459</td>\n",
       "    </tr>\n",
       "    <tr>\n",
       "      <th>6</th>\n",
       "      <td>Seattle</td>\n",
       "      <td>high</td>\n",
       "      <td>4341</td>\n",
       "      <td>-2188.756494</td>\n",
       "      <td>1.724501</td>\n",
       "      <td>-0.504206</td>\n",
       "      <td>19.620282</td>\n",
       "    </tr>\n",
       "    <tr>\n",
       "      <th>7</th>\n",
       "      <td>Seattle</td>\n",
       "      <td>low</td>\n",
       "      <td>1640</td>\n",
       "      <td>-2393.946456</td>\n",
       "      <td>0.435326</td>\n",
       "      <td>-1.459723</td>\n",
       "      <td>10.986309</td>\n",
       "    </tr>\n",
       "    <tr>\n",
       "      <th>8</th>\n",
       "      <td>Seattle</td>\n",
       "      <td>med</td>\n",
       "      <td>7837</td>\n",
       "      <td>-13893.089529</td>\n",
       "      <td>0.815760</td>\n",
       "      <td>-1.772756</td>\n",
       "      <td>14.925556</td>\n",
       "    </tr>\n",
       "    <tr>\n",
       "      <th>9</th>\n",
       "      <td>South King County</td>\n",
       "      <td>low</td>\n",
       "      <td>3973</td>\n",
       "      <td>-3446.520032</td>\n",
       "      <td>0.582539</td>\n",
       "      <td>-0.867486</td>\n",
       "      <td>10.437762</td>\n",
       "    </tr>\n",
       "    <tr>\n",
       "      <th>10</th>\n",
       "      <td>South King County</td>\n",
       "      <td>med</td>\n",
       "      <td>3515</td>\n",
       "      <td>-1228.211675</td>\n",
       "      <td>0.989992</td>\n",
       "      <td>-0.349420</td>\n",
       "      <td>10.929576</td>\n",
       "    </tr>\n",
       "  </tbody>\n",
       "</table>\n",
       "</div>"
      ],
      "text/plain": [
       "               region trip_freq  diff                                    \\\n",
       "                                count           sum    median      mean   \n",
       "0    East King County       low  1772  -2426.026383  0.399576 -1.369089   \n",
       "1    East King County       med  4038  -1322.804903  0.940058 -0.327589   \n",
       "2             Express       low   289    -56.420886  1.830254 -0.195228   \n",
       "3             Express       med  1921   1708.499247  2.350792  0.889380   \n",
       "4   North King County       low   911  -3427.414602  0.174095 -3.762255   \n",
       "5   North King County       med  1297  -1120.054812  0.623466 -0.863573   \n",
       "6             Seattle      high  4341  -2188.756494  1.724501 -0.504206   \n",
       "7             Seattle       low  1640  -2393.946456  0.435326 -1.459723   \n",
       "8             Seattle       med  7837 -13893.089529  0.815760 -1.772756   \n",
       "9   South King County       low  3973  -3446.520032  0.582539 -0.867486   \n",
       "10  South King County       med  3515  -1228.211675  0.989992 -0.349420   \n",
       "\n",
       "               \n",
       "          std  \n",
       "0   11.307608  \n",
       "1   13.315695  \n",
       "2   23.588921  \n",
       "3   46.121116  \n",
       "4   16.960622  \n",
       "5    9.007459  \n",
       "6   19.620282  \n",
       "7   10.986309  \n",
       "8   14.925556  \n",
       "9   10.437762  \n",
       "10  10.929576  "
      ]
     },
     "execution_count": 25,
     "metadata": {},
     "output_type": "execute_result"
    }
   ],
   "source": [
    "regioncluster_summary = cdata[['diff', 'trip_freq', 'region']].groupby(['region', 'trip_freq']).agg(['count', 'sum', 'median', 'mean', 'std']).reset_index()\n",
    "regioncluster_summary"
   ]
  },
  {
   "cell_type": "code",
   "execution_count": 26,
   "metadata": {},
   "outputs": [
    {
     "name": "stdout",
     "output_type": "stream",
     "text": [
      "One-way ANOVA\n",
      "=============\n",
      "F value: 12.935841887764434\n",
      "P value: 1.5967935797013334e-10 \n",
      "\n"
     ]
    }
   ],
   "source": [
    "# notice all high frequency routes are in Seattle,\n",
    "# remove and see if Seattle is still different\n",
    "EKC = cdata[cdata['region'] == regions[0]]['diff']\n",
    "Express = cdata[cdata['region'] == regions[1]]['diff']\n",
    "NKC = cdata[cdata['region'] == regions[2]]['diff']\n",
    "Seattle = cdata[(cdata['region'] == regions[3])\n",
    "                & (cdata['trip_freq'] != 'high')]['diff']\n",
    "SKC = cdata[cdata['region'] == regions[4]]['diff']\n",
    "\n",
    "f, p = stats.f_oneway(EKC, Express, NKC, Seattle, SKC)\n",
    "print ('One-way ANOVA')\n",
    "print ('=============')\n",
    "print ('F value:', f)\n",
    "print ('P value:', p, '\\n')"
   ]
  },
  {
   "cell_type": "code",
   "execution_count": 27,
   "metadata": {},
   "outputs": [
    {
     "name": "stdout",
     "output_type": "stream",
     "text": [
      "         Multiple Comparison of Means - Tukey HSD,FWER=0.05        \n",
      "===================================================================\n",
      "      group1            group2      meandiff  lower   upper  reject\n",
      "-------------------------------------------------------------------\n",
      " East King County      Express       1.3928   0.1975  2.588   True \n",
      " East King County North King County -1.4143  -2.6099 -0.2187  True \n",
      " East King County      Seattle      -1.0733  -1.8702 -0.2765  True \n",
      " East King County South King County  0.0209  -0.8152  0.8571 False \n",
      "     Express      North King County -2.8071  -4.2461 -1.3681  True \n",
      "     Express           Seattle      -2.4661  -3.5959 -1.3364  True \n",
      "     Express      South King County -1.3718  -2.5296 -0.2141  True \n",
      "North King County      Seattle       0.341   -0.7892  1.4711 False \n",
      "North King County South King County  1.4352   0.2771  2.5934  True \n",
      "     Seattle      South King County  1.0943   0.3548  1.8337  True \n",
      "-------------------------------------------------------------------\n"
     ]
    }
   ],
   "source": [
    "# Seattle is still different then all other regions\n",
    "mc = MultiComparison(cdata[cdata['trip_freq'] != 'high']['diff'], cdata[cdata['trip_freq'] != 'high']['region'])\n",
    "result = mc.tukeyhsd()\n",
    "print(result)"
   ]
  },
  {
   "cell_type": "markdown",
   "metadata": {},
   "source": [
    "# <center> Low Income <center>"
   ]
  },
  {
   "cell_type": "code",
   "execution_count": 28,
   "metadata": {},
   "outputs": [
    {
     "name": "stdout",
     "output_type": "stream",
     "text": [
      "One-way ANOVA\n",
      "=============\n",
      "F value: nan\n",
      "P value: nan \n",
      "\n"
     ]
    },
    {
     "name": "stderr",
     "output_type": "stream",
     "text": [
      "C:\\Users\\mstark\\Anaconda3\\lib\\site-packages\\scipy\\stats\\stats.py:2916: RuntimeWarning: invalid value encountered in double_scalars\n",
      "  ssbn += _square_of_sums(a - offset) / float(len(a))\n"
     ]
    },
    {
     "data": {
      "text/plain": [
       "<matplotlib.collections.PathCollection at 0x1f3c3409198>"
      ]
     },
     "execution_count": 28,
     "metadata": {},
     "output_type": "execute_result"
    },
    {
     "data": {
      "image/png": "[encoded data removed]",
      "text/plain": [
       "<matplotlib.figure.Figure at 0x1f3c336af60>"
      ]
     },
     "metadata": {},
     "output_type": "display_data"
    }
   ],
   "source": [
    "type_o = 'frac_li'\n",
    "low_l = cdata[(cdata[type_o] >= 0) & (cdata[type_o] <= .33)]['diff']\n",
    "low_m = cdata[(cdata[type_o] > .33) & (cdata[type_o] <= .66)]['diff']\n",
    "low_h = cdata[(cdata[type_o] > .66) & (cdata[type_o] <= 1)]['diff']\n",
    "\n",
    "f, p = stats.f_oneway(low_l, low_m, low_h)\n",
    "print ('One-way ANOVA')\n",
    "print ('=============')\n",
    "print ('F value:', f)\n",
    "print ('P value:', p, '\\n')\n",
    "\n",
    "plt.scatter(cdata[type_o], cdata['diff'])"
   ]
  },
  {
   "cell_type": "markdown",
   "metadata": {},
   "source": [
    "# <center> Weekday <center>"
   ]
  },
  {
   "cell_type": "code",
   "execution_count": 29,
   "metadata": {},
   "outputs": [
    {
     "name": "stdout",
     "output_type": "stream",
     "text": [
      "One-way ANOVA\n",
      "=============\n",
      "F value: 6.4564584922446135\n",
      "P value: 8.130831429064581e-07 \n",
      "\n"
     ]
    },
    {
     "data": {
      "text/plain": [
       "<matplotlib.collections.PathCollection at 0x1f3c47297b8>"
      ]
     },
     "execution_count": 29,
     "metadata": {},
     "output_type": "execute_result"
    },
    {
     "data": {
      "image/png": "[encoded data removed]",
      "text/plain": [
       "<matplotlib.figure.Figure at 0x1f3c3087470>"
      ]
     },
     "metadata": {},
     "output_type": "display_data"
    }
   ],
   "source": [
    "type_o = 'day_of_week'\n",
    "s = cdata[cdata[type_o] == 0]['diff']\n",
    "m = cdata[cdata[type_o] == 1]['diff']\n",
    "t = cdata[cdata[type_o] == 2]['diff']\n",
    "w = cdata[cdata[type_o] == 3]['diff']\n",
    "th = cdata[cdata[type_o] == 4]['diff']\n",
    "f = cdata[cdata[type_o] == 5]['diff']\n",
    "sat = cdata[cdata[type_o] == 6]['diff']\n",
    "\n",
    "f, p = stats.f_oneway(s, m, t, w, th, f, sat)\n",
    "print ('One-way ANOVA')\n",
    "print ('=============')\n",
    "print ('F value:', f)\n",
    "print ('P value:', p, '\\n')\n",
    "\n",
    "plt.scatter(cdata[type_o], cdata['diff'])"
   ]
  },
  {
   "cell_type": "code",
   "execution_count": 30,
   "metadata": {},
   "outputs": [
    {
     "name": "stdout",
     "output_type": "stream",
     "text": [
      "Multiple Comparison of Means - Tukey HSD,FWER=0.05\n",
      "============================================\n",
      "group1 group2 meandiff  lower  upper  reject\n",
      "--------------------------------------------\n",
      "  0      1    -0.1446  -1.2066 0.9174 False \n",
      "  0      2    -0.1106   -1.165 0.9438 False \n",
      "  0      3     0.7651  -0.2908 1.821  False \n",
      "  0      4     0.0292   -1.021 1.0793 False \n",
      "  0      5     0.9712  -0.1975  2.14  False \n",
      "  0      6     1.8815   0.6401 3.1228  True \n",
      "  1      2     0.034    -1.014 1.082  False \n",
      "  1      3     0.9097  -0.1397 1.9592 False \n",
      "  1      4     0.1738  -0.8699 1.2175 False \n",
      "  1      5     1.1159  -0.0471 2.2788 False \n",
      "  1      6     2.0261   0.7902 3.262   True \n",
      "  2      3     0.8757  -0.1661 1.9175 False \n",
      "  2      4     0.1397  -0.8962 1.1757 False \n",
      "  2      5     1.0818  -0.0742 2.2379 False \n",
      "  2      6     1.9921   0.7627 3.2215  True \n",
      "  3      4     -0.736  -1.7734 0.3015 False \n",
      "  3      5     0.2061  -0.9513 1.3635 False \n",
      "  3      6     1.1164  -0.1143 2.347  False \n",
      "  4      5     0.9421  -0.2101 2.0943 False \n",
      "  4      6     1.8523   0.6266 3.0781  True \n",
      "  5      6     0.9102  -0.4185 2.239  False \n",
      "--------------------------------------------\n"
     ]
    }
   ],
   "source": [
    "mc = MultiComparison(cdata['diff'], cdata['day_of_week'])\n",
    "result = mc.tukeyhsd()\n",
    "print(result)"
   ]
  },
  {
   "cell_type": "code",
   "execution_count": 31,
   "metadata": {},
   "outputs": [
    {
     "name": "stdout",
     "output_type": "stream",
     "text": [
      "Ttest_indResult(statistic=3.208373775318928, pvalue=0.001336230688945795)\n"
     ]
    },
    {
     "name": "stderr",
     "output_type": "stream",
     "text": [
      "C:\\Users\\mstark\\Anaconda3\\lib\\site-packages\\numpy\\core\\fromnumeric.py:52: FutureWarning: reshape is deprecated and will raise in a subsequent release. Please use .values.reshape(...) instead\n",
      "  return getattr(obj, method)(*args, **kwds)\n"
     ]
    },
    {
     "data": {
      "text/plain": [
       "([array([1.000e+00, 0.000e+00, 1.000e+00, 0.000e+00, 0.000e+00, 2.000e+00,\n",
       "         1.000e+00, 1.000e+00, 2.000e+00, 0.000e+00, 1.000e+00, 4.000e+00,\n",
       "         4.000e+00, 4.000e+00, 8.000e+00, 7.000e+00, 1.300e+01, 3.100e+01,\n",
       "         5.300e+01, 1.010e+02, 1.610e+02, 4.270e+02, 2.221e+03, 8.737e+03,\n",
       "         1.034e+03, 1.800e+02, 6.300e+01, 3.100e+01, 2.300e+01, 1.000e+01,\n",
       "         3.000e+00, 8.000e+00, 5.000e+00, 0.000e+00, 1.000e+00, 0.000e+00,\n",
       "         1.000e+00, 0.000e+00, 0.000e+00, 1.000e+00, 2.000e+00, 1.000e+00,\n",
       "         0.000e+00, 0.000e+00, 0.000e+00, 0.000e+00, 0.000e+00, 0.000e+00,\n",
       "         0.000e+00, 0.000e+00]),\n",
       "  array([0.0000e+00, 1.0000e+00, 0.0000e+00, 1.0000e+00, 0.0000e+00,\n",
       "         1.0000e+00, 1.0000e+00, 3.0000e+00, 1.0000e+00, 2.0000e+00,\n",
       "         3.0000e+00, 3.0000e+00, 1.4000e+01, 1.5000e+01, 1.8000e+01,\n",
       "         2.1000e+01, 5.6000e+01, 8.5000e+01, 1.4000e+02, 2.2200e+02,\n",
       "         4.3600e+02, 9.0500e+02, 3.1450e+03, 1.0328e+04, 2.1780e+03,\n",
       "         4.8600e+02, 1.5600e+02, 7.1000e+01, 4.1000e+01, 2.0000e+01,\n",
       "         1.2000e+01, 8.0000e+00, 2.0000e+00, 2.0000e+00, 1.0000e+00,\n",
       "         4.0000e+00, 1.0000e+00, 3.0000e+00, 1.0000e+00, 0.0000e+00,\n",
       "         0.0000e+00, 1.0000e+00, 0.0000e+00, 1.0000e+00, 0.0000e+00,\n",
       "         0.0000e+00, 1.0000e+00, 0.0000e+00, 0.0000e+00, 1.0000e+00])],\n",
       " array([-290.07351685, -277.63258057, -265.19164429, -252.75070801,\n",
       "        -240.30977173, -227.86883545, -215.42789917, -202.98696289,\n",
       "        -190.54602661, -178.10509033, -165.66415405, -153.22321777,\n",
       "        -140.78228149, -128.34134521, -115.90040894, -103.45947266,\n",
       "         -91.01853638,  -78.5776001 ,  -66.13666382,  -53.69572754,\n",
       "         -41.25479126,  -28.81385498,  -16.3729187 ,   -3.93198242,\n",
       "           8.50895386,   20.94989014,   33.39082642,   45.8317627 ,\n",
       "          58.27269897,   70.71363525,   83.15457153,   95.59550781,\n",
       "         108.03644409,  120.47738037,  132.91831665,  145.35925293,\n",
       "         157.80018921,  170.24112549,  182.68206177,  195.12299805,\n",
       "         207.56393433,  220.00487061,  232.44580688,  244.88674316,\n",
       "         257.32767944,  269.76861572,  282.209552  ,  294.65048828,\n",
       "         307.09142456,  319.53236084,  331.97329712]),\n",
       " <a list of 2 Lists of Patches objects>)"
      ]
     },
     "execution_count": 31,
     "metadata": {},
     "output_type": "execute_result"
    },
    {
     "data": {
      "image/png": "[encoded data removed]",
      "text/plain": [
       "<matplotlib.figure.Figure at 0x1f3c471dcf8>"
      ]
     },
     "metadata": {},
     "output_type": "display_data"
    }
   ],
   "source": [
    "type_o = 'summer'\n",
    "summer = cdata[cdata[type_o] == 0]['diff']\n",
    "winter = cdata[cdata[type_o] == 1]['diff']\n",
    "\n",
    "print(stats.ttest_ind(summer, winter, equal_var=False))\n",
    "\n",
    "plt.hist([summer, winter], bins = 50)"
   ]
  }
 ],
 "metadata": {
  "kernelspec": {
   "display_name": "Python 3",
   "language": "python",
   "name": "python3"
  },
  "language_info": {
   "codemirror_mode": {
    "name": "ipython",
    "version": 3
   },
   "file_extension": ".py",
   "mimetype": "text/x-python",
   "name": "python",
   "nbconvert_exporter": "python",
   "pygments_lexer": "ipython3",
   "version": "3.6.4"
  }
 },
 "nbformat": 4,
 "nbformat_minor": 2
}
