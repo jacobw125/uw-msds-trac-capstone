{
 "cells": [
  {
   "cell_type": "code",
   "execution_count": 1,
   "metadata": {},
   "outputs": [],
   "source": [
    "# import packages\n",
    "import numpy as np\n",
    "import pandas as pd\n",
    "import scipy.stats as stats\n",
    "import matplotlib.pyplot as plt\n",
    "from statsmodels.stats.multicomp import pairwise_tukeyhsd, MultiComparison"
   ]
  },
  {
   "cell_type": "code",
   "execution_count": 2,
   "metadata": {},
   "outputs": [],
   "source": [
    "# set constants\n",
    "file_path = 'C:/Users/mstark/Desktop/uw-msds-trac-capstone/'\n",
    "agg_level = '15min'\n",
    "plt.style.use('seaborn')"
   ]
  },
  {
   "cell_type": "code",
   "execution_count": 3,
   "metadata": {},
   "outputs": [
    {
     "name": "stdout",
     "output_type": "stream",
     "text": [
      "(59999, 20)\n",
      "(59999, 1)\n"
     ]
    }
   ],
   "source": [
    "# read in test data, route clusters, and predictions\n",
    "cdata = pd.read_csv(file_path + 'data/training_data/combined_data/' + agg_level + '/test_no_rr.tsv.gz', delimiter='\\t')\n",
    "cdata['rte'] = cdata['rte'].astype(float)\n",
    "print(cdata.shape)\n",
    "\n",
    "rte_clusters = pd.read_csv(file_path + 'evaluation/cluster_rte_frequency/rte_clusters.tsv', delimiter='\\t')\n",
    "\n",
    "predictions = data = pd.read_csv(file_path + 'data/predictions/model_final_nn/final_nn_' +  agg_level + '_test.txt', sep=\" \", header=None)\n",
    "predictions.columns = ['predicted_ons']\n",
    "print(predictions.shape)"
   ]
  },
  {
   "cell_type": "code",
   "execution_count": 4,
   "metadata": {},
   "outputs": [
    {
     "name": "stdout",
     "output_type": "stream",
     "text": [
      "Features:  Index(['opd_date', 'trip_start_hr_15', 'rte', 'dir', 'day_of_week', 'is_ns',\n",
      "       'is_rapid', 'is_weekend', 'orca_total', 'frac_disabled', 'frac_youth',\n",
      "       'frac_senior', 'frac_li', 'frac_uw', 'ons', 'region', 'start', 'end',\n",
      "       'type', 'summer'],\n",
      "      dtype='object')\n",
      "Shape:  (59999, 20)\n",
      "True\n"
     ]
    }
   ],
   "source": [
    "# spot check\n",
    "print('Features: ', cdata.columns)\n",
    "print('Shape: ', cdata.shape)\n",
    "print(cdata.shape[0] == predictions.shape[0])"
   ]
  },
  {
   "cell_type": "code",
   "execution_count": 5,
   "metadata": {},
   "outputs": [
    {
     "data": {
      "text/html": [
       "<div>\n",
       "<style scoped>\n",
       "    .dataframe tbody tr th:only-of-type {\n",
       "        vertical-align: middle;\n",
       "    }\n",
       "\n",
       "    .dataframe tbody tr th {\n",
       "        vertical-align: top;\n",
       "    }\n",
       "\n",
       "    .dataframe thead th {\n",
       "        text-align: right;\n",
       "    }\n",
       "</style>\n",
       "<table border=\"1\" class=\"dataframe\">\n",
       "  <thead>\n",
       "    <tr style=\"text-align: right;\">\n",
       "      <th></th>\n",
       "      <th>rte</th>\n",
       "      <th>ntrips</th>\n",
       "      <th>trips_per_15</th>\n",
       "      <th>trip_freq</th>\n",
       "    </tr>\n",
       "  </thead>\n",
       "  <tbody>\n",
       "    <tr>\n",
       "      <th>0</th>\n",
       "      <td>48</td>\n",
       "      <td>4975</td>\n",
       "      <td>1.138965</td>\n",
       "      <td>high</td>\n",
       "    </tr>\n",
       "    <tr>\n",
       "      <th>1</th>\n",
       "      <td>45</td>\n",
       "      <td>4893</td>\n",
       "      <td>1.120192</td>\n",
       "      <td>high</td>\n",
       "    </tr>\n",
       "    <tr>\n",
       "      <th>2</th>\n",
       "      <td>674</td>\n",
       "      <td>4831</td>\n",
       "      <td>1.105998</td>\n",
       "      <td>high</td>\n",
       "    </tr>\n",
       "    <tr>\n",
       "      <th>3</th>\n",
       "      <td>675</td>\n",
       "      <td>4782</td>\n",
       "      <td>1.094780</td>\n",
       "      <td>high</td>\n",
       "    </tr>\n",
       "    <tr>\n",
       "      <th>4</th>\n",
       "      <td>673</td>\n",
       "      <td>4753</td>\n",
       "      <td>1.088141</td>\n",
       "      <td>high</td>\n",
       "    </tr>\n",
       "    <tr>\n",
       "      <th>5</th>\n",
       "      <td>62</td>\n",
       "      <td>4707</td>\n",
       "      <td>1.077610</td>\n",
       "      <td>high</td>\n",
       "    </tr>\n",
       "    <tr>\n",
       "      <th>6</th>\n",
       "      <td>8</td>\n",
       "      <td>4539</td>\n",
       "      <td>1.039148</td>\n",
       "      <td>high</td>\n",
       "    </tr>\n",
       "    <tr>\n",
       "      <th>7</th>\n",
       "      <td>671</td>\n",
       "      <td>4528</td>\n",
       "      <td>1.036630</td>\n",
       "      <td>high</td>\n",
       "    </tr>\n",
       "    <tr>\n",
       "      <th>8</th>\n",
       "      <td>36</td>\n",
       "      <td>4480</td>\n",
       "      <td>1.025641</td>\n",
       "      <td>high</td>\n",
       "    </tr>\n",
       "    <tr>\n",
       "      <th>9</th>\n",
       "      <td>7</td>\n",
       "      <td>4407</td>\n",
       "      <td>1.008929</td>\n",
       "      <td>high</td>\n",
       "    </tr>\n",
       "    <tr>\n",
       "      <th>10</th>\n",
       "      <td>70</td>\n",
       "      <td>4322</td>\n",
       "      <td>0.989469</td>\n",
       "      <td>high</td>\n",
       "    </tr>\n",
       "    <tr>\n",
       "      <th>11</th>\n",
       "      <td>676</td>\n",
       "      <td>4309</td>\n",
       "      <td>0.986493</td>\n",
       "      <td>high</td>\n",
       "    </tr>\n",
       "    <tr>\n",
       "      <th>12</th>\n",
       "      <td>44</td>\n",
       "      <td>4298</td>\n",
       "      <td>0.983974</td>\n",
       "      <td>high</td>\n",
       "    </tr>\n",
       "    <tr>\n",
       "      <th>13</th>\n",
       "      <td>49</td>\n",
       "      <td>4179</td>\n",
       "      <td>0.956731</td>\n",
       "      <td>high</td>\n",
       "    </tr>\n",
       "    <tr>\n",
       "      <th>14</th>\n",
       "      <td>10</td>\n",
       "      <td>4052</td>\n",
       "      <td>0.927656</td>\n",
       "      <td>high</td>\n",
       "    </tr>\n",
       "  </tbody>\n",
       "</table>\n",
       "</div>"
      ],
      "text/plain": [
       "    rte  ntrips  trips_per_15 trip_freq\n",
       "0    48    4975      1.138965      high\n",
       "1    45    4893      1.120192      high\n",
       "2   674    4831      1.105998      high\n",
       "3   675    4782      1.094780      high\n",
       "4   673    4753      1.088141      high\n",
       "5    62    4707      1.077610      high\n",
       "6     8    4539      1.039148      high\n",
       "7   671    4528      1.036630      high\n",
       "8    36    4480      1.025641      high\n",
       "9     7    4407      1.008929      high\n",
       "10   70    4322      0.989469      high\n",
       "11  676    4309      0.986493      high\n",
       "12   44    4298      0.983974      high\n",
       "13   49    4179      0.956731      high\n",
       "14   10    4052      0.927656      high"
      ]
     },
     "execution_count": 5,
     "metadata": {},
     "output_type": "execute_result"
    }
   ],
   "source": [
    "rte_clusters[rte_clusters['trip_freq'] == 'high']"
   ]
  },
  {
   "cell_type": "code",
   "execution_count": 6,
   "metadata": {},
   "outputs": [
    {
     "name": "stderr",
     "output_type": "stream",
     "text": [
      "C:\\Users\\mstark\\Anaconda3\\lib\\site-packages\\matplotlib\\cbook\\deprecation.py:106: MatplotlibDeprecationWarning: Adding an axes using the same arguments as a previous axes currently reuses the earlier instance.  In a future version, a new instance will always be created and returned.  Meanwhile, this warning can be suppressed, and the future behavior ensured, by passing a unique label to each axes instance.\n",
      "  warnings.warn(message, mplDeprecation, stacklevel=1)\n",
      "C:\\Users\\mstark\\Anaconda3\\lib\\site-packages\\numpy\\core\\fromnumeric.py:52: FutureWarning: reshape is deprecated and will raise in a subsequent release. Please use .values.reshape(...) instead\n",
      "  return getattr(obj, method)(*args, **kwds)\n"
     ]
    },
    {
     "data": {
      "image/png": "[encoded data removed]",
      "text/plain": [
       "<matplotlib.figure.Figure at 0x21360b86518>"
      ]
     },
     "metadata": {},
     "output_type": "display_data"
    }
   ],
   "source": [
    "labels = ['high', 'med', 'low']\n",
    "high_freq = rte_clusters[rte_clusters['trip_freq'] == labels[0]]['trips_per_15']\n",
    "med_freq = rte_clusters[rte_clusters['trip_freq'] == labels[1]]['trips_per_15']\n",
    "low_freq = rte_clusters[rte_clusters['trip_freq'] == labels[2]]['trips_per_15']\n",
    "\n",
    "fig = plt.figure()\n",
    "ax = plt.subplot(111)\n",
    "ax = plt.subplot(111)\n",
    "plt.hist([high_freq, med_freq, low_freq], bins = 100)\n",
    "plt.title('Route Frequency Distribution')\n",
    "plt.ylabel('Route Count')\n",
    "plt.xlabel('Avg. Trip Frequency per 15min')\n",
    "ax.legend(labels)\n",
    "\n",
    "fig.savefig(file_path + 'evaluation/model_bias/plots/' + agg_level + '/RteFrequencyDistribution.png')"
   ]
  },
  {
   "cell_type": "code",
   "execution_count": 7,
   "metadata": {},
   "outputs": [
    {
     "data": {
      "text/html": [
       "<div>\n",
       "<style scoped>\n",
       "    .dataframe tbody tr th:only-of-type {\n",
       "        vertical-align: middle;\n",
       "    }\n",
       "\n",
       "    .dataframe tbody tr th {\n",
       "        vertical-align: top;\n",
       "    }\n",
       "\n",
       "    .dataframe thead th {\n",
       "        text-align: right;\n",
       "    }\n",
       "</style>\n",
       "<table border=\"1\" class=\"dataframe\">\n",
       "  <thead>\n",
       "    <tr style=\"text-align: right;\">\n",
       "      <th></th>\n",
       "      <th>opd_date</th>\n",
       "      <th>trip_start_hr_15</th>\n",
       "      <th>rte</th>\n",
       "      <th>dir</th>\n",
       "      <th>day_of_week</th>\n",
       "      <th>is_ns</th>\n",
       "      <th>is_rapid</th>\n",
       "      <th>is_weekend</th>\n",
       "      <th>orca_total</th>\n",
       "      <th>frac_disabled</th>\n",
       "      <th>...</th>\n",
       "      <th>region</th>\n",
       "      <th>start</th>\n",
       "      <th>end</th>\n",
       "      <th>type</th>\n",
       "      <th>summer</th>\n",
       "      <th>predicted_ons</th>\n",
       "      <th>ntrips</th>\n",
       "      <th>trips_per_15</th>\n",
       "      <th>trip_freq</th>\n",
       "      <th>diff</th>\n",
       "    </tr>\n",
       "  </thead>\n",
       "  <tbody>\n",
       "    <tr>\n",
       "      <th>0</th>\n",
       "      <td>2019-01-07</td>\n",
       "      <td>00_0</td>\n",
       "      <td>10</td>\n",
       "      <td>N</td>\n",
       "      <td>0</td>\n",
       "      <td>1.0</td>\n",
       "      <td>0.0</td>\n",
       "      <td>0.0</td>\n",
       "      <td>5.0</td>\n",
       "      <td>0.008772</td>\n",
       "      <td>...</td>\n",
       "      <td>Seattle</td>\n",
       "      <td>Downtown Seattle</td>\n",
       "      <td>Capitol Hill</td>\n",
       "      <td>Trolley</td>\n",
       "      <td>False</td>\n",
       "      <td>11.693904</td>\n",
       "      <td>4052</td>\n",
       "      <td>0.927656</td>\n",
       "      <td>high</td>\n",
       "      <td>-3.306096</td>\n",
       "    </tr>\n",
       "    <tr>\n",
       "      <th>1</th>\n",
       "      <td>2019-01-07</td>\n",
       "      <td>00_0</td>\n",
       "      <td>44</td>\n",
       "      <td>N</td>\n",
       "      <td>0</td>\n",
       "      <td>1.0</td>\n",
       "      <td>0.0</td>\n",
       "      <td>0.0</td>\n",
       "      <td>0.0</td>\n",
       "      <td>0.000000</td>\n",
       "      <td>...</td>\n",
       "      <td>Seattle</td>\n",
       "      <td>Ballard</td>\n",
       "      <td>University District</td>\n",
       "      <td>Trolley</td>\n",
       "      <td>False</td>\n",
       "      <td>8.118879</td>\n",
       "      <td>4298</td>\n",
       "      <td>0.983974</td>\n",
       "      <td>high</td>\n",
       "      <td>2.118879</td>\n",
       "    </tr>\n",
       "    <tr>\n",
       "      <th>2</th>\n",
       "      <td>2019-01-07</td>\n",
       "      <td>00_0</td>\n",
       "      <td>132</td>\n",
       "      <td>S</td>\n",
       "      <td>0</td>\n",
       "      <td>1.0</td>\n",
       "      <td>0.0</td>\n",
       "      <td>0.0</td>\n",
       "      <td>8.0</td>\n",
       "      <td>0.000000</td>\n",
       "      <td>...</td>\n",
       "      <td>South King County</td>\n",
       "      <td>Downtown Seattle</td>\n",
       "      <td>Burien Transit Center</td>\n",
       "      <td>Conventional</td>\n",
       "      <td>False</td>\n",
       "      <td>19.994865</td>\n",
       "      <td>2679</td>\n",
       "      <td>0.613324</td>\n",
       "      <td>med</td>\n",
       "      <td>-7.005135</td>\n",
       "    </tr>\n",
       "    <tr>\n",
       "      <th>3</th>\n",
       "      <td>2019-01-07</td>\n",
       "      <td>00_0</td>\n",
       "      <td>235</td>\n",
       "      <td>S</td>\n",
       "      <td>0</td>\n",
       "      <td>1.0</td>\n",
       "      <td>0.0</td>\n",
       "      <td>0.0</td>\n",
       "      <td>3.0</td>\n",
       "      <td>0.000000</td>\n",
       "      <td>...</td>\n",
       "      <td>East King County</td>\n",
       "      <td>Kingsgate</td>\n",
       "      <td>Bellevue</td>\n",
       "      <td>Conventional</td>\n",
       "      <td>False</td>\n",
       "      <td>5.124784</td>\n",
       "      <td>2131</td>\n",
       "      <td>0.487866</td>\n",
       "      <td>med</td>\n",
       "      <td>-0.875216</td>\n",
       "    </tr>\n",
       "    <tr>\n",
       "      <th>4</th>\n",
       "      <td>2019-01-07</td>\n",
       "      <td>00_0</td>\n",
       "      <td>554</td>\n",
       "      <td>E</td>\n",
       "      <td>0</td>\n",
       "      <td>0.0</td>\n",
       "      <td>0.0</td>\n",
       "      <td>0.0</td>\n",
       "      <td>0.0</td>\n",
       "      <td>0.000000</td>\n",
       "      <td>...</td>\n",
       "      <td>Express</td>\n",
       "      <td>Downtown Seattle</td>\n",
       "      <td>Issaquah</td>\n",
       "      <td>Conventional</td>\n",
       "      <td>False</td>\n",
       "      <td>12.912284</td>\n",
       "      <td>2080</td>\n",
       "      <td>0.476190</td>\n",
       "      <td>med</td>\n",
       "      <td>2.912284</td>\n",
       "    </tr>\n",
       "  </tbody>\n",
       "</table>\n",
       "<p>5 rows × 25 columns</p>\n",
       "</div>"
      ],
      "text/plain": [
       "     opd_date trip_start_hr_15  rte dir  day_of_week  is_ns  is_rapid  \\\n",
       "0  2019-01-07             00_0   10   N            0    1.0       0.0   \n",
       "1  2019-01-07             00_0   44   N            0    1.0       0.0   \n",
       "2  2019-01-07             00_0  132   S            0    1.0       0.0   \n",
       "3  2019-01-07             00_0  235   S            0    1.0       0.0   \n",
       "4  2019-01-07             00_0  554   E            0    0.0       0.0   \n",
       "\n",
       "   is_weekend  orca_total  frac_disabled    ...                region  \\\n",
       "0         0.0         5.0       0.008772    ...               Seattle   \n",
       "1         0.0         0.0       0.000000    ...               Seattle   \n",
       "2         0.0         8.0       0.000000    ...     South King County   \n",
       "3         0.0         3.0       0.000000    ...      East King County   \n",
       "4         0.0         0.0       0.000000    ...               Express   \n",
       "\n",
       "              start                    end          type  summer  \\\n",
       "0  Downtown Seattle           Capitol Hill       Trolley   False   \n",
       "1           Ballard    University District       Trolley   False   \n",
       "2  Downtown Seattle  Burien Transit Center  Conventional   False   \n",
       "3         Kingsgate               Bellevue  Conventional   False   \n",
       "4  Downtown Seattle               Issaquah  Conventional   False   \n",
       "\n",
       "  predicted_ons ntrips trips_per_15 trip_freq      diff  \n",
       "0     11.693904   4052     0.927656      high -3.306096  \n",
       "1      8.118879   4298     0.983974      high  2.118879  \n",
       "2     19.994865   2679     0.613324       med -7.005135  \n",
       "3      5.124784   2131     0.487866       med -0.875216  \n",
       "4     12.912284   2080     0.476190       med  2.912284  \n",
       "\n",
       "[5 rows x 25 columns]"
      ]
     },
     "execution_count": 7,
     "metadata": {},
     "output_type": "execute_result"
    }
   ],
   "source": [
    "# merge test, predictions, and clusters\n",
    "cdata['predicted_ons'] = predictions\n",
    "cdata = pd.merge(cdata, rte_clusters, left_on='rte', right_on='rte', how = 'left')\n",
    "cdata['diff'] = cdata['predicted_ons'] - cdata['ons']\n",
    "cdata.head()"
   ]
  },
  {
   "cell_type": "code",
   "execution_count": 8,
   "metadata": {},
   "outputs": [
    {
     "data": {
      "text/plain": [
       "(0, 25)"
      ]
     },
     "execution_count": 8,
     "metadata": {},
     "output_type": "execute_result"
    }
   ],
   "source": [
    "# validate merging\n",
    "cdata[cdata['trip_freq'].isna()].shape"
   ]
  },
  {
   "cell_type": "markdown",
   "metadata": {},
   "source": [
    "# <center> Route Clusters <center>"
   ]
  },
  {
   "cell_type": "code",
   "execution_count": 9,
   "metadata": {},
   "outputs": [
    {
     "data": {
      "text/html": [
       "<div>\n",
       "<style scoped>\n",
       "    .dataframe tbody tr th:only-of-type {\n",
       "        vertical-align: middle;\n",
       "    }\n",
       "\n",
       "    .dataframe tbody tr th {\n",
       "        vertical-align: top;\n",
       "    }\n",
       "\n",
       "    .dataframe thead tr th {\n",
       "        text-align: left;\n",
       "    }\n",
       "</style>\n",
       "<table border=\"1\" class=\"dataframe\">\n",
       "  <thead>\n",
       "    <tr>\n",
       "      <th></th>\n",
       "      <th>trip_freq</th>\n",
       "      <th colspan=\"5\" halign=\"left\">diff</th>\n",
       "    </tr>\n",
       "    <tr>\n",
       "      <th></th>\n",
       "      <th></th>\n",
       "      <th>count</th>\n",
       "      <th>sum</th>\n",
       "      <th>median</th>\n",
       "      <th>mean</th>\n",
       "      <th>std</th>\n",
       "    </tr>\n",
       "  </thead>\n",
       "  <tbody>\n",
       "    <tr>\n",
       "      <th>0</th>\n",
       "      <td>high</td>\n",
       "      <td>12259</td>\n",
       "      <td>-29631.218423</td>\n",
       "      <td>-0.702488</td>\n",
       "      <td>-2.417099</td>\n",
       "      <td>10.669241</td>\n",
       "    </tr>\n",
       "    <tr>\n",
       "      <th>1</th>\n",
       "      <td>low</td>\n",
       "      <td>11684</td>\n",
       "      <td>-12275.415493</td>\n",
       "      <td>-0.162785</td>\n",
       "      <td>-1.050618</td>\n",
       "      <td>7.654560</td>\n",
       "    </tr>\n",
       "    <tr>\n",
       "      <th>2</th>\n",
       "      <td>med</td>\n",
       "      <td>36056</td>\n",
       "      <td>-48124.545547</td>\n",
       "      <td>-0.279725</td>\n",
       "      <td>-1.334717</td>\n",
       "      <td>11.040445</td>\n",
       "    </tr>\n",
       "  </tbody>\n",
       "</table>\n",
       "</div>"
      ],
      "text/plain": [
       "  trip_freq   diff                                             \n",
       "             count           sum    median      mean        std\n",
       "0      high  12259 -29631.218423 -0.702488 -2.417099  10.669241\n",
       "1       low  11684 -12275.415493 -0.162785 -1.050618   7.654560\n",
       "2       med  36056 -48124.545547 -0.279725 -1.334717  11.040445"
      ]
     },
     "execution_count": 9,
     "metadata": {},
     "output_type": "execute_result"
    }
   ],
   "source": [
    "# show summary statistics\n",
    "freq_summary = cdata[['diff', 'trip_freq']].groupby(['trip_freq']).agg(['count', 'sum', 'median', 'mean', 'std']).reset_index()\n",
    "freq_summary.head()"
   ]
  },
  {
   "cell_type": "code",
   "execution_count": 10,
   "metadata": {
    "scrolled": true
   },
   "outputs": [
    {
     "name": "stderr",
     "output_type": "stream",
     "text": [
      "C:\\Users\\mstark\\Anaconda3\\lib\\site-packages\\numpy\\core\\fromnumeric.py:52: FutureWarning: reshape is deprecated and will raise in a subsequent release. Please use .values.reshape(...) instead\n",
      "  return getattr(obj, method)(*args, **kwds)\n"
     ]
    },
    {
     "data": {
      "image/png": "[encoded data removed]",
      "text/plain": [
       "<matplotlib.figure.Figure at 0x21359fe29e8>"
      ]
     },
     "metadata": {},
     "output_type": "display_data"
    }
   ],
   "source": [
    "# Plot route cluster distributions\n",
    "labels = ['high', 'med', 'low']\n",
    "high_freq = cdata[cdata['trip_freq'] == labels[0]]['diff']\n",
    "med_freq = cdata[cdata['trip_freq'] == labels[1]]['diff']\n",
    "low_freq = cdata[cdata['trip_freq'] == labels[2]]['diff']\n",
    "\n",
    "fig = plt.figure()\n",
    "ax = plt.subplot(111)\n",
    "plt.hist([high_freq, med_freq, low_freq], bins = 100)\n",
    "plt.title('Route Cluster Difference Distribution')\n",
    "plt.ylabel('Route Count')\n",
    "plt.xlabel('Difference [Predicted - Actual]')\n",
    "plt.xlim(-75, 75)\n",
    "ax.legend(labels)\n",
    "\n",
    "fig.savefig(file_path + 'evaluation/model_bias/plots/' + agg_level + '/RteClusterDistribution.png')"
   ]
  },
  {
   "cell_type": "code",
   "execution_count": 11,
   "metadata": {},
   "outputs": [
    {
     "data": {
      "image/png": "[encoded data removed]",
      "text/plain": [
       "<matplotlib.figure.Figure at 0x213603d0dd8>"
      ]
     },
     "metadata": {},
     "output_type": "display_data"
    }
   ],
   "source": [
    "# Scatter Difference vs. Ons to see possible correlation\n",
    "\n",
    "fig, ax = plt.subplots()\n",
    "ax.margins(0.05) # Optional, just adds 5% padding to the autoscaling\n",
    "for x in labels:\n",
    "    data = cdata[cdata['trip_freq'] == x]\n",
    "    ax.plot(data['diff'], data['ons'], marker='o', linestyle='', ms=5, label=x)\n",
    "ax.legend()\n",
    "plt.ylabel('Actual')\n",
    "plt.xlabel('Difference [Predicted - Actual]')\n",
    "plt.show()\n",
    "\n",
    "fig.savefig(file_path + 'evaluation/model_bias/plots/' + agg_level + '/OnsvsPredictedScatter.png')"
   ]
  },
  {
   "cell_type": "code",
   "execution_count": 12,
   "metadata": {},
   "outputs": [
    {
     "name": "stdout",
     "output_type": "stream",
     "text": [
      "One-way ANOVA\n",
      "=============\n",
      "F value: 63.266086994847214\n",
      "P value: 3.571252471016062e-28 \n",
      "\n"
     ]
    }
   ],
   "source": [
    "### One-way ANOVA test\n",
    "### Null hypothesis = Groups have the same population mean. \n",
    "### Low P-value = reject\n",
    "\n",
    "f, p = stats.f_oneway(high_freq, med_freq, low_freq)\n",
    "print ('One-way ANOVA')\n",
    "print ('=============')\n",
    "print ('F value:', f)\n",
    "print ('P value:', p, '\\n')"
   ]
  },
  {
   "attachments": {},
   "cell_type": "markdown",
   "metadata": {},
   "source": [
    "### 15min: Reject\n",
    "F value: 63.266086994847214  \n",
    "P value: 3.571252471016062e-28 "
   ]
  },
  {
   "cell_type": "code",
   "execution_count": 13,
   "metadata": {
    "scrolled": true
   },
   "outputs": [
    {
     "name": "stdout",
     "output_type": "stream",
     "text": [
      "Multiple Comparison of Means - Tukey HSD,FWER=0.05\n",
      "=============================================\n",
      "group1 group2 meandiff  lower   upper  reject\n",
      "---------------------------------------------\n",
      " high   low    1.3665   1.0517  1.6813  True \n",
      " high   med    1.0824   0.8278  1.3369  True \n",
      " low    med   -0.2841  -0.5433 -0.0249  True \n",
      "---------------------------------------------\n"
     ]
    }
   ],
   "source": [
    "mc = MultiComparison(cdata['diff'], cdata['trip_freq'])\n",
    "result = mc.tukeyhsd()\n",
    "print(result)"
   ]
  },
  {
   "attachments": {
    "image.png": {
     "image/png": "[encoded data removed]"
    }
   },
   "cell_type": "markdown",
   "metadata": {},
   "source": [
    "### 15min: High Frequency Different\n",
    "![image.png](attachment:image.png)"
   ]
  },
  {
   "cell_type": "markdown",
   "metadata": {},
   "source": [
    "# <center> Top 10 Routes vs. Bottom 10 Routes <center>"
   ]
  },
  {
   "cell_type": "code",
   "execution_count": 14,
   "metadata": {},
   "outputs": [
    {
     "name": "stdout",
     "output_type": "stream",
     "text": [
      "Top 10 Underestimated Routes\n",
      "       rte trip_freq  diffmean    diffstd  diffcount\n",
      "40    57.0       low -5.071195   6.136568         17\n",
      "15    18.0       low -4.962358   6.190050         22\n",
      "13    15.0       low -4.552565   7.843039         41\n",
      "106  212.0       low -4.335460  15.527192        237\n",
      "27    36.0      high -4.146316  14.654054       1182\n",
      "134  271.0       med -4.043845  15.539531        915\n",
      "110  218.0       low -3.924821  12.408994        134\n",
      "143  316.0       low -3.740268  11.450554         41\n",
      "2      3.0       med -3.674622  14.053078        963\n",
      "151  355.0       low -3.559586   9.666774         40 \n",
      "\n",
      "Top 10 Overestimated Routes\n",
      "       rte trip_freq  diffmean    diffstd  diffcount\n",
      "162  556.0       low  2.377321  13.969013        126\n",
      "139  308.0       low  1.566669   4.899441         15\n",
      "119  237.0       low  1.231368   6.122071         30\n",
      "155  540.0       low  0.918231   7.520497         83\n",
      "124  244.0       low  0.731786   4.252088         53\n",
      "86   167.0       low  0.708670   2.394016         25\n",
      "158  545.0       med  0.679736  30.181530       1019\n",
      "82   158.0       low  0.400847   7.102434         63\n",
      "161  555.0       low  0.360490  11.902584        105\n",
      "84   164.0       low  0.283397   8.050180        228 \n",
      "\n"
     ]
    }
   ],
   "source": [
    "rte_summary = cdata[['rte', 'diff', 'trip_freq']].groupby(['rte', 'trip_freq']).agg(['mean', 'std', 'count']).reset_index()\n",
    "rte_summary.columns = rte_summary.columns.map(''.join)\n",
    "rte_summary = rte_summary.sort_values('diffmean')\n",
    "print('Top 10 Underestimated Routes')\n",
    "print(rte_summary.head(10).sort_values('diffmean', ascending = True), '\\n')\n",
    "print('Top 10 Overestimated Routes')\n",
    "print(rte_summary.tail(10).sort_values('diffmean', ascending = False), '\\n')"
   ]
  },
  {
   "cell_type": "code",
   "execution_count": 15,
   "metadata": {},
   "outputs": [
    {
     "data": {
      "image/png": "[encoded data removed]",
      "text/plain": [
       "<matplotlib.figure.Figure at 0x2135f366198>"
      ]
     },
     "metadata": {},
     "output_type": "display_data"
    }
   ],
   "source": [
    "fig, ax = plt.subplots()\n",
    "for x in labels:\n",
    "    data = rte_summary[rte_summary['trip_freq'] == x]\n",
    "    ax.plot(data['diffcount'], data['diffmean'], marker='o', linestyle='', ms=5, label=x)\n",
    "ax.plot(rte_summary['diffcount'].head(10), rte_summary['diffmean'].head(10),\n",
    "        marker='s', linestyle='', ms=6, color='red', label='Underestimated')\n",
    "ax.plot(rte_summary['diffcount'].tail(10), rte_summary['diffmean'].tail(10),\n",
    "        marker='s', linestyle='', ms=6, color='green', label='Overestimated')\n",
    "plt.xlabel('Route Count')\n",
    "plt.ylabel('Difference [Predicted - Actual]')\n",
    "ax.legend()\n",
    "plt.show()\n",
    "\n",
    "fig.savefig(file_path + 'evaluation/model_bias/plots/' + agg_level + '/OverUnderRtes.png')"
   ]
  },
  {
   "cell_type": "code",
   "execution_count": 16,
   "metadata": {},
   "outputs": [
    {
     "data": {
      "image/png": "[encoded data removed]",
      "text/plain": [
       "<matplotlib.figure.Figure at 0x2136040dfd0>"
      ]
     },
     "metadata": {},
     "output_type": "display_data"
    }
   ],
   "source": [
    "# Plot route cluster distributions\n",
    "fig = plt.figure()\n",
    "ax = plt.subplot(111)\n",
    "plt.hist(rte_summary['diffmean'], bins = 20)\n",
    "plt.title('Route Avg. Difference Distribution')\n",
    "ax.legend('All Rtes')\n",
    "plt.ylabel('Route Count')\n",
    "plt.xlabel('Avg. Difference [Predicted - Actual]')\n",
    "\n",
    "fig.savefig(file_path + 'evaluation/model_bias/plots/' + agg_level + '/RteAvgDistribution_1.png')"
   ]
  },
  {
   "cell_type": "code",
   "execution_count": 17,
   "metadata": {},
   "outputs": [
    {
     "name": "stderr",
     "output_type": "stream",
     "text": [
      "C:\\Users\\mstark\\Anaconda3\\lib\\site-packages\\numpy\\core\\fromnumeric.py:52: FutureWarning: reshape is deprecated and will raise in a subsequent release. Please use .values.reshape(...) instead\n",
      "  return getattr(obj, method)(*args, **kwds)\n"
     ]
    },
    {
     "data": {
      "image/png": "[encoded data removed]",
      "text/plain": [
       "<matplotlib.figure.Figure at 0x213616fe7f0>"
      ]
     },
     "metadata": {},
     "output_type": "display_data"
    }
   ],
   "source": [
    "# Plot route cluster distributions\n",
    "high_freq = rte_summary[rte_summary['trip_freq'] == labels[0]]['diffmean']\n",
    "med_freq = rte_summary[rte_summary['trip_freq'] == labels[1]]['diffmean']\n",
    "low_freq = rte_summary[rte_summary['trip_freq'] == labels[2]]['diffmean']\n",
    "\n",
    "fig = plt.figure()\n",
    "ax = plt.subplot(111)\n",
    "plt.hist([high_freq, med_freq, low_freq], bins = 20)\n",
    "plt.title('Route Avg. Difference Distribution by Cluster')\n",
    "plt.ylabel('Route Count')\n",
    "plt.xlabel('Difference [Predicted - Actual]')\n",
    "ax.legend(labels)\n",
    "\n",
    "fig.savefig(file_path + 'evaluation/model_bias/plots/' + agg_level + '/RteAvgDistribution_2.png')"
   ]
  },
  {
   "cell_type": "code",
   "execution_count": 18,
   "metadata": {},
   "outputs": [
    {
     "name": "stdout",
     "output_type": "stream",
     "text": [
      "One-way ANOVA\n",
      "=============\n",
      "F value: 5.388284408200405\n",
      "P value: 0.005436706938802968 \n",
      "\n"
     ]
    }
   ],
   "source": [
    "f, p = stats.f_oneway(high_freq, med_freq, low_freq)\n",
    "print ('One-way ANOVA')\n",
    "print ('=============')\n",
    "print ('F value:', f)\n",
    "print ('P value:', p, '\\n')"
   ]
  },
  {
   "attachments": {},
   "cell_type": "markdown",
   "metadata": {},
   "source": [
    "### 15min: Reject\n",
    "F value: 5.388284408200405  \n",
    "P value: 0.005436706938802968 "
   ]
  },
  {
   "cell_type": "code",
   "execution_count": 19,
   "metadata": {},
   "outputs": [
    {
     "name": "stdout",
     "output_type": "stream",
     "text": [
      "Multiple Comparison of Means - Tukey HSD,FWER=0.05\n",
      "============================================\n",
      "group1 group2 meandiff  lower  upper  reject\n",
      "--------------------------------------------\n",
      " high   low    1.298    0.3624 2.2337  True \n",
      " high   med    1.1686   0.194  2.1432  True \n",
      " low    med   -0.1294  -0.6112 0.3523 False \n",
      "--------------------------------------------\n"
     ]
    }
   ],
   "source": [
    "mc = MultiComparison(rte_summary['diffmean'], rte_summary['trip_freq'])\n",
    "result = mc.tukeyhsd()\n",
    "print(result)"
   ]
  },
  {
   "cell_type": "markdown",
   "metadata": {},
   "source": [
    "# <center> Region <center>"
   ]
  },
  {
   "cell_type": "code",
   "execution_count": 20,
   "metadata": {},
   "outputs": [
    {
     "data": {
      "text/html": [
       "<div>\n",
       "<style scoped>\n",
       "    .dataframe tbody tr th:only-of-type {\n",
       "        vertical-align: middle;\n",
       "    }\n",
       "\n",
       "    .dataframe tbody tr th {\n",
       "        vertical-align: top;\n",
       "    }\n",
       "\n",
       "    .dataframe thead tr th {\n",
       "        text-align: left;\n",
       "    }\n",
       "</style>\n",
       "<table border=\"1\" class=\"dataframe\">\n",
       "  <thead>\n",
       "    <tr>\n",
       "      <th></th>\n",
       "      <th>region</th>\n",
       "      <th colspan=\"5\" halign=\"left\">diff</th>\n",
       "    </tr>\n",
       "    <tr>\n",
       "      <th></th>\n",
       "      <th></th>\n",
       "      <th>count</th>\n",
       "      <th>sum</th>\n",
       "      <th>median</th>\n",
       "      <th>mean</th>\n",
       "      <th>std</th>\n",
       "    </tr>\n",
       "  </thead>\n",
       "  <tbody>\n",
       "    <tr>\n",
       "      <th>0</th>\n",
       "      <td>East King County</td>\n",
       "      <td>9889</td>\n",
       "      <td>-10202.262753</td>\n",
       "      <td>-0.078902</td>\n",
       "      <td>-1.031678</td>\n",
       "      <td>7.684523</td>\n",
       "    </tr>\n",
       "    <tr>\n",
       "      <th>1</th>\n",
       "      <td>Express</td>\n",
       "      <td>4690</td>\n",
       "      <td>-4945.992239</td>\n",
       "      <td>0.595640</td>\n",
       "      <td>-1.054583</td>\n",
       "      <td>22.691250</td>\n",
       "    </tr>\n",
       "    <tr>\n",
       "      <th>2</th>\n",
       "      <td>North King County</td>\n",
       "      <td>3299</td>\n",
       "      <td>-3559.038922</td>\n",
       "      <td>-0.276634</td>\n",
       "      <td>-1.078824</td>\n",
       "      <td>7.297703</td>\n",
       "    </tr>\n",
       "    <tr>\n",
       "      <th>3</th>\n",
       "      <td>Seattle</td>\n",
       "      <td>30766</td>\n",
       "      <td>-61617.916583</td>\n",
       "      <td>-0.600694</td>\n",
       "      <td>-2.002793</td>\n",
       "      <td>9.408797</td>\n",
       "    </tr>\n",
       "    <tr>\n",
       "      <th>4</th>\n",
       "      <td>South King County</td>\n",
       "      <td>11355</td>\n",
       "      <td>-9705.968967</td>\n",
       "      <td>-0.073914</td>\n",
       "      <td>-0.854775</td>\n",
       "      <td>7.115106</td>\n",
       "    </tr>\n",
       "  </tbody>\n",
       "</table>\n",
       "</div>"
      ],
      "text/plain": [
       "              region   diff                                             \n",
       "                      count           sum    median      mean        std\n",
       "0   East King County   9889 -10202.262753 -0.078902 -1.031678   7.684523\n",
       "1            Express   4690  -4945.992239  0.595640 -1.054583  22.691250\n",
       "2  North King County   3299  -3559.038922 -0.276634 -1.078824   7.297703\n",
       "3            Seattle  30766 -61617.916583 -0.600694 -2.002793   9.408797\n",
       "4  South King County  11355  -9705.968967 -0.073914 -0.854775   7.115106"
      ]
     },
     "execution_count": 20,
     "metadata": {},
     "output_type": "execute_result"
    }
   ],
   "source": [
    "region_summary = cdata[['diff', 'region']].groupby(['region']).agg(['count', 'sum', 'median', 'mean', 'std']).reset_index()\n",
    "region_summary"
   ]
  },
  {
   "cell_type": "code",
   "execution_count": 21,
   "metadata": {},
   "outputs": [
    {
     "data": {
      "image/png": "[encoded data removed]",
      "text/plain": [
       "<matplotlib.figure.Figure at 0x2136158c160>"
      ]
     },
     "metadata": {},
     "output_type": "display_data"
    }
   ],
   "source": [
    "regions = region_summary['region']\n",
    "\n",
    "fig=plt.figure()\n",
    "i = 1\n",
    "for r in regions:\n",
    "    ax=fig.add_subplot(3,2,i)\n",
    "    cdata[cdata['region'] == r]['diff'].hist(bins=100,ax=ax)\n",
    "    plt.xlim(-100, 100)\n",
    "    ax.set_title(r + \" Distribution\")\n",
    "    i += 1\n",
    "fig.tight_layout()  # Improves appearance a bit.\n",
    "plt.show()\n",
    "\n",
    "fig.savefig(file_path + 'evaluation/model_bias/plots/' + agg_level + '/RegionDistributions.png')"
   ]
  },
  {
   "cell_type": "code",
   "execution_count": 22,
   "metadata": {},
   "outputs": [
    {
     "name": "stdout",
     "output_type": "stream",
     "text": [
      "One-way ANOVA\n",
      "=============\n",
      "F value: 37.51735925601046\n",
      "P value: 2.155093345662146e-31 \n",
      "\n"
     ]
    }
   ],
   "source": [
    "EKC = cdata[cdata['region'] == regions[0]]['diff']\n",
    "Express = cdata[cdata['region'] == regions[1]]['diff']\n",
    "NKC = cdata[cdata['region'] == regions[2]]['diff']\n",
    "Seattle = cdata[cdata['region'] == regions[3]]['diff']\n",
    "SKC = cdata[cdata['region'] == regions[4]]['diff']\n",
    "\n",
    "f, p = stats.f_oneway(EKC, Express, NKC, Seattle, SKC)\n",
    "print ('One-way ANOVA')\n",
    "print ('=============')\n",
    "print ('F value:', f)\n",
    "print ('P value:', p, '\\n')"
   ]
  },
  {
   "attachments": {},
   "cell_type": "markdown",
   "metadata": {},
   "source": [
    "### 15min: Reject\n",
    "F value: 37.51735925601046  \n",
    "P value: 2.155093345662146e-31"
   ]
  },
  {
   "cell_type": "code",
   "execution_count": 23,
   "metadata": {},
   "outputs": [
    {
     "name": "stdout",
     "output_type": "stream",
     "text": [
      "         Multiple Comparison of Means - Tukey HSD,FWER=0.05        \n",
      "===================================================================\n",
      "      group1            group2      meandiff  lower   upper  reject\n",
      "-------------------------------------------------------------------\n",
      " East King County      Express      -0.0229  -0.5252  0.4794 False \n",
      " East King County North King County -0.0471  -0.6168  0.5225 False \n",
      " East King County      Seattle      -0.9711  -1.2986 -0.6436  True \n",
      " East King County South King County  0.1769  -0.2128  0.5666 False \n",
      "     Express      North King County -0.0242  -0.6681  0.6196 False \n",
      "     Express           Seattle      -0.9482  -1.3923 -0.5041  True \n",
      "     Express      South King County  0.1998   -0.292  0.6916 False \n",
      "North King County      Seattle       -0.924   -1.443 -0.4049  True \n",
      "North King County South King County  0.224   -0.3363  0.7844 False \n",
      "     Seattle      South King County  1.148    0.8369  1.4591  True \n",
      "-------------------------------------------------------------------\n"
     ]
    }
   ],
   "source": [
    "mc = MultiComparison(cdata['diff'], cdata['region'])\n",
    "result = mc.tukeyhsd()\n",
    "print(result)"
   ]
  },
  {
   "cell_type": "markdown",
   "metadata": {},
   "source": [
    "# <center> Region vs. Cluster <center>"
   ]
  },
  {
   "cell_type": "code",
   "execution_count": 24,
   "metadata": {},
   "outputs": [
    {
     "data": {
      "text/html": [
       "<div>\n",
       "<style scoped>\n",
       "    .dataframe tbody tr th:only-of-type {\n",
       "        vertical-align: middle;\n",
       "    }\n",
       "\n",
       "    .dataframe tbody tr th {\n",
       "        vertical-align: top;\n",
       "    }\n",
       "\n",
       "    .dataframe thead tr th {\n",
       "        text-align: left;\n",
       "    }\n",
       "</style>\n",
       "<table border=\"1\" class=\"dataframe\">\n",
       "  <thead>\n",
       "    <tr>\n",
       "      <th></th>\n",
       "      <th>region</th>\n",
       "      <th>trip_freq</th>\n",
       "      <th colspan=\"5\" halign=\"left\">diff</th>\n",
       "    </tr>\n",
       "    <tr>\n",
       "      <th></th>\n",
       "      <th></th>\n",
       "      <th></th>\n",
       "      <th>count</th>\n",
       "      <th>sum</th>\n",
       "      <th>median</th>\n",
       "      <th>mean</th>\n",
       "      <th>std</th>\n",
       "    </tr>\n",
       "  </thead>\n",
       "  <tbody>\n",
       "    <tr>\n",
       "      <th>0</th>\n",
       "      <td>East King County</td>\n",
       "      <td>low</td>\n",
       "      <td>2540</td>\n",
       "      <td>-2354.825469</td>\n",
       "      <td>-0.120249</td>\n",
       "      <td>-0.927097</td>\n",
       "      <td>7.069055</td>\n",
       "    </tr>\n",
       "    <tr>\n",
       "      <th>1</th>\n",
       "      <td>East King County</td>\n",
       "      <td>med</td>\n",
       "      <td>7349</td>\n",
       "      <td>-7847.437284</td>\n",
       "      <td>-0.058500</td>\n",
       "      <td>-1.067824</td>\n",
       "      <td>7.886218</td>\n",
       "    </tr>\n",
       "    <tr>\n",
       "      <th>2</th>\n",
       "      <td>Express</td>\n",
       "      <td>low</td>\n",
       "      <td>559</td>\n",
       "      <td>55.537648</td>\n",
       "      <td>1.046068</td>\n",
       "      <td>0.099352</td>\n",
       "      <td>12.091184</td>\n",
       "    </tr>\n",
       "    <tr>\n",
       "      <th>3</th>\n",
       "      <td>Express</td>\n",
       "      <td>med</td>\n",
       "      <td>4131</td>\n",
       "      <td>-5001.529886</td>\n",
       "      <td>0.414188</td>\n",
       "      <td>-1.210731</td>\n",
       "      <td>23.761882</td>\n",
       "    </tr>\n",
       "    <tr>\n",
       "      <th>4</th>\n",
       "      <td>North King County</td>\n",
       "      <td>low</td>\n",
       "      <td>1127</td>\n",
       "      <td>-1544.246692</td>\n",
       "      <td>-0.334433</td>\n",
       "      <td>-1.370228</td>\n",
       "      <td>10.064256</td>\n",
       "    </tr>\n",
       "    <tr>\n",
       "      <th>5</th>\n",
       "      <td>North King County</td>\n",
       "      <td>med</td>\n",
       "      <td>2172</td>\n",
       "      <td>-2014.792231</td>\n",
       "      <td>-0.217756</td>\n",
       "      <td>-0.927621</td>\n",
       "      <td>5.319924</td>\n",
       "    </tr>\n",
       "    <tr>\n",
       "      <th>6</th>\n",
       "      <td>Seattle</td>\n",
       "      <td>high</td>\n",
       "      <td>12259</td>\n",
       "      <td>-29631.218423</td>\n",
       "      <td>-0.702488</td>\n",
       "      <td>-2.417099</td>\n",
       "      <td>10.669241</td>\n",
       "    </tr>\n",
       "    <tr>\n",
       "      <th>7</th>\n",
       "      <td>Seattle</td>\n",
       "      <td>low</td>\n",
       "      <td>2193</td>\n",
       "      <td>-3391.941357</td>\n",
       "      <td>-0.551626</td>\n",
       "      <td>-1.546713</td>\n",
       "      <td>6.480996</td>\n",
       "    </tr>\n",
       "    <tr>\n",
       "      <th>8</th>\n",
       "      <td>Seattle</td>\n",
       "      <td>med</td>\n",
       "      <td>16314</td>\n",
       "      <td>-28594.756803</td>\n",
       "      <td>-0.539052</td>\n",
       "      <td>-1.752774</td>\n",
       "      <td>8.692042</td>\n",
       "    </tr>\n",
       "    <tr>\n",
       "      <th>9</th>\n",
       "      <td>South King County</td>\n",
       "      <td>low</td>\n",
       "      <td>5265</td>\n",
       "      <td>-5039.939623</td>\n",
       "      <td>-0.012274</td>\n",
       "      <td>-0.957253</td>\n",
       "      <td>7.141596</td>\n",
       "    </tr>\n",
       "    <tr>\n",
       "      <th>10</th>\n",
       "      <td>South King County</td>\n",
       "      <td>med</td>\n",
       "      <td>6090</td>\n",
       "      <td>-4666.029344</td>\n",
       "      <td>-0.133242</td>\n",
       "      <td>-0.766179</td>\n",
       "      <td>7.091517</td>\n",
       "    </tr>\n",
       "  </tbody>\n",
       "</table>\n",
       "</div>"
      ],
      "text/plain": [
       "               region trip_freq   diff                                    \\\n",
       "                                 count           sum    median      mean   \n",
       "0    East King County       low   2540  -2354.825469 -0.120249 -0.927097   \n",
       "1    East King County       med   7349  -7847.437284 -0.058500 -1.067824   \n",
       "2             Express       low    559     55.537648  1.046068  0.099352   \n",
       "3             Express       med   4131  -5001.529886  0.414188 -1.210731   \n",
       "4   North King County       low   1127  -1544.246692 -0.334433 -1.370228   \n",
       "5   North King County       med   2172  -2014.792231 -0.217756 -0.927621   \n",
       "6             Seattle      high  12259 -29631.218423 -0.702488 -2.417099   \n",
       "7             Seattle       low   2193  -3391.941357 -0.551626 -1.546713   \n",
       "8             Seattle       med  16314 -28594.756803 -0.539052 -1.752774   \n",
       "9   South King County       low   5265  -5039.939623 -0.012274 -0.957253   \n",
       "10  South King County       med   6090  -4666.029344 -0.133242 -0.766179   \n",
       "\n",
       "               \n",
       "          std  \n",
       "0    7.069055  \n",
       "1    7.886218  \n",
       "2   12.091184  \n",
       "3   23.761882  \n",
       "4   10.064256  \n",
       "5    5.319924  \n",
       "6   10.669241  \n",
       "7    6.480996  \n",
       "8    8.692042  \n",
       "9    7.141596  \n",
       "10   7.091517  "
      ]
     },
     "execution_count": 24,
     "metadata": {},
     "output_type": "execute_result"
    }
   ],
   "source": [
    "regioncluster_summary = cdata[['diff', 'trip_freq', 'region']].groupby(['region', 'trip_freq']).agg(['count', 'sum', 'median', 'mean', 'std']).reset_index()\n",
    "regioncluster_summary"
   ]
  },
  {
   "cell_type": "code",
   "execution_count": 25,
   "metadata": {},
   "outputs": [
    {
     "name": "stdout",
     "output_type": "stream",
     "text": [
      "One-way ANOVA\n",
      "=============\n",
      "F value: 15.865250734869132\n",
      "P value: 5.535586321219084e-13 \n",
      "\n"
     ]
    }
   ],
   "source": [
    "# notice all high frequency routes are in Seattle,\n",
    "# remove and see if Seattle is still different\n",
    "EKC = cdata[cdata['region'] == regions[0]]['diff']\n",
    "Express = cdata[cdata['region'] == regions[1]]['diff']\n",
    "NKC = cdata[cdata['region'] == regions[2]]['diff']\n",
    "Seattle = cdata[(cdata['region'] == regions[3])\n",
    "                & (cdata['trip_freq'] != 'high')]['diff']\n",
    "SKC = cdata[cdata['region'] == regions[4]]['diff']\n",
    "\n",
    "f, p = stats.f_oneway(EKC, Express, NKC, Seattle, SKC)\n",
    "print ('One-way ANOVA')\n",
    "print ('=============')\n",
    "print ('F value:', f)\n",
    "print ('P value:', p, '\\n')"
   ]
  },
  {
   "cell_type": "code",
   "execution_count": 26,
   "metadata": {},
   "outputs": [
    {
     "name": "stdout",
     "output_type": "stream",
     "text": [
      "         Multiple Comparison of Means - Tukey HSD,FWER=0.05        \n",
      "===================================================================\n",
      "      group1            group2      meandiff  lower   upper  reject\n",
      "-------------------------------------------------------------------\n",
      " East King County      Express      -0.0229  -0.5215  0.4757 False \n",
      " East King County North King County -0.0471  -0.6126  0.5183 False \n",
      " East King County      Seattle      -0.6967   -1.047 -0.3464  True \n",
      " East King County South King County  0.1769  -0.2099  0.5637 False \n",
      "     Express      North King County -0.0242  -0.6633  0.6148 False \n",
      "     Express           Seattle      -0.6738  -1.1335  -0.214  True \n",
      "     Express      South King County  0.1998  -0.2883  0.6879 False \n",
      "North King County      Seattle      -0.6495   -1.181 -0.1181  True \n",
      "North King County South King County  0.224   -0.3322  0.7803 False \n",
      "     Seattle      South King County  0.8736   0.5383  1.2088  True \n",
      "-------------------------------------------------------------------\n"
     ]
    }
   ],
   "source": [
    "# Seattle is still different then all other regions\n",
    "mc = MultiComparison(cdata[cdata['trip_freq'] != 'high']['diff'], cdata[cdata['trip_freq'] != 'high']['region'])\n",
    "result = mc.tukeyhsd()\n",
    "print(result)"
   ]
  },
  {
   "cell_type": "markdown",
   "metadata": {},
   "source": [
    "# <center> Low Income <center>"
   ]
  },
  {
   "cell_type": "code",
   "execution_count": 27,
   "metadata": {},
   "outputs": [
    {
     "name": "stdout",
     "output_type": "stream",
     "text": [
      "One-way ANOVA\n",
      "=============\n",
      "F value: 0.002282889184659161\n",
      "P value: 0.9977197147128188 \n",
      "\n"
     ]
    },
    {
     "data": {
      "text/plain": [
       "<matplotlib.collections.PathCollection at 0x2136072be80>"
      ]
     },
     "execution_count": 27,
     "metadata": {},
     "output_type": "execute_result"
    },
    {
     "data": {
      "image/png": "[encoded data removed]",
      "text/plain": [
       "<matplotlib.figure.Figure at 0x21360869710>"
      ]
     },
     "metadata": {},
     "output_type": "display_data"
    }
   ],
   "source": [
    "type_o = 'frac_li'\n",
    "low_l = cdata[(cdata[type_o] >= 0) & (cdata[type_o] <= .33)]['diff']\n",
    "low_m = cdata[(cdata[type_o] > .33) & (cdata[type_o] <= .66)]['diff']\n",
    "low_h = cdata[(cdata[type_o] > .66) & (cdata[type_o] <= 1)]['diff']\n",
    "\n",
    "f, p = stats.f_oneway(low_l, low_m, low_h)\n",
    "print ('One-way ANOVA')\n",
    "print ('=============')\n",
    "print ('F value:', f)\n",
    "print ('P value:', p, '\\n')\n",
    "\n",
    "plt.scatter(cdata[type_o], cdata['diff'])"
   ]
  },
  {
   "cell_type": "markdown",
   "metadata": {},
   "source": [
    "# <center> Weekday <center>"
   ]
  },
  {
   "cell_type": "code",
   "execution_count": 28,
   "metadata": {},
   "outputs": [
    {
     "name": "stdout",
     "output_type": "stream",
     "text": [
      "One-way ANOVA\n",
      "=============\n",
      "F value: 19.65376167692661\n",
      "P value: 4.6961598987596375e-23 \n",
      "\n"
     ]
    },
    {
     "data": {
      "text/plain": [
       "<matplotlib.collections.PathCollection at 0x21360a383c8>"
      ]
     },
     "execution_count": 28,
     "metadata": {},
     "output_type": "execute_result"
    },
    {
     "data": {
      "image/png": "[encoded data removed]",
      "text/plain": [
       "<matplotlib.figure.Figure at 0x21360703160>"
      ]
     },
     "metadata": {},
     "output_type": "display_data"
    }
   ],
   "source": [
    "type_o = 'day_of_week'\n",
    "s = cdata[cdata[type_o] == 0]['diff']\n",
    "m = cdata[cdata[type_o] == 1]['diff']\n",
    "t = cdata[cdata[type_o] == 2]['diff']\n",
    "w = cdata[cdata[type_o] == 3]['diff']\n",
    "th = cdata[cdata[type_o] == 4]['diff']\n",
    "f = cdata[cdata[type_o] == 5]['diff']\n",
    "sat = cdata[cdata[type_o] == 6]['diff']\n",
    "\n",
    "f, p = stats.f_oneway(s, m, t, w, th, f, sat)\n",
    "print ('One-way ANOVA')\n",
    "print ('=============')\n",
    "print ('F value:', f)\n",
    "print ('P value:', p, '\\n')\n",
    "\n",
    "plt.scatter(cdata[type_o], cdata['diff'])"
   ]
  },
  {
   "cell_type": "code",
   "execution_count": 29,
   "metadata": {},
   "outputs": [
    {
     "name": "stdout",
     "output_type": "stream",
     "text": [
      "Multiple Comparison of Means - Tukey HSD,FWER=0.05\n",
      "============================================\n",
      "group1 group2 meandiff  lower  upper  reject\n",
      "--------------------------------------------\n",
      "  0      1     0.3912   -0.046 0.8284 False \n",
      "  0      2     0.3429  -0.0893 0.775  False \n",
      "  0      3     0.1534  -0.2827 0.5896 False \n",
      "  0      4     0.7443   0.3094 1.1792  True \n",
      "  0      5     1.4788   0.9663 1.9913  True \n",
      "  0      6      1.29    0.7324 1.8475  True \n",
      "  1      2    -0.0484  -0.4795 0.3828 False \n",
      "  1      3    -0.2378   -0.673 0.1974 False \n",
      "  1      4     0.353   -0.0809 0.787  False \n",
      "  1      5     1.0876   0.5759 1.5993  True \n",
      "  1      6     0.8987   0.3419 1.4556  True \n",
      "  2      3    -0.1894  -0.6196 0.2407 False \n",
      "  2      4     0.4014  -0.0274 0.8303 False \n",
      "  2      5     1.1359   0.6286 1.6433  True \n",
      "  2      6     0.9471   0.3942  1.5    True \n",
      "  3      4     0.5909   0.1579 1.0238  True \n",
      "  3      5     1.3254   0.8146 1.8362  True \n",
      "  3      6     1.1365   0.5805 1.6926  True \n",
      "  4      5     0.7345   0.2248 1.2443  True \n",
      "  4      6     0.5457  -0.0094 1.1007 False \n",
      "  5      6    -0.1889  -0.8066 0.4289 False \n",
      "--------------------------------------------\n"
     ]
    }
   ],
   "source": [
    "mc = MultiComparison(cdata['diff'], cdata['day_of_week'])\n",
    "result = mc.tukeyhsd()\n",
    "print(result)"
   ]
  },
  {
   "cell_type": "code",
   "execution_count": 30,
   "metadata": {},
   "outputs": [
    {
     "name": "stdout",
     "output_type": "stream",
     "text": [
      "Ttest_indResult(statistic=8.477128759828659, pvalue=2.360693247607022e-17)\n"
     ]
    },
    {
     "name": "stderr",
     "output_type": "stream",
     "text": [
      "C:\\Users\\mstark\\Anaconda3\\lib\\site-packages\\numpy\\core\\fromnumeric.py:52: FutureWarning: reshape is deprecated and will raise in a subsequent release. Please use .values.reshape(...) instead\n",
      "  return getattr(obj, method)(*args, **kwds)\n"
     ]
    },
    {
     "data": {
      "text/plain": [
       "([array([0.0000e+00, 0.0000e+00, 0.0000e+00, 0.0000e+00, 0.0000e+00,\n",
       "         0.0000e+00, 0.0000e+00, 0.0000e+00, 0.0000e+00, 1.0000e+00,\n",
       "         0.0000e+00, 0.0000e+00, 0.0000e+00, 2.0000e+00, 1.0000e+00,\n",
       "         0.0000e+00, 1.0000e+00, 2.0000e+00, 5.0000e+00, 5.0000e+00,\n",
       "         1.2000e+01, 9.0000e+00, 1.2000e+01, 9.0000e+00, 1.7000e+01,\n",
       "         1.8000e+01, 2.7000e+01, 4.4000e+01, 6.6000e+01, 9.7000e+01,\n",
       "         1.8200e+02, 4.8400e+02, 1.8790e+03, 1.0275e+04, 1.0383e+04,\n",
       "         1.1090e+03, 2.0400e+02, 9.9000e+01, 4.5000e+01, 2.4000e+01,\n",
       "         1.5000e+01, 1.9000e+01, 5.0000e+00, 1.0000e+01, 5.0000e+00,\n",
       "         1.0000e+00, 3.0000e+00, 1.0000e+00, 0.0000e+00, 0.0000e+00]),\n",
       "  array([1.0000e+00, 0.0000e+00, 0.0000e+00, 1.0000e+00, 0.0000e+00,\n",
       "         0.0000e+00, 0.0000e+00, 0.0000e+00, 0.0000e+00, 0.0000e+00,\n",
       "         2.0000e+00, 0.0000e+00, 1.0000e+00, 2.0000e+00, 1.0000e+00,\n",
       "         2.0000e+00, 2.0000e+00, 5.0000e+00, 6.0000e+00, 1.0000e+01,\n",
       "         1.0000e+01, 1.9000e+01, 2.7000e+01, 2.5000e+01, 4.7000e+01,\n",
       "         6.3000e+01, 8.3000e+01, 1.1800e+02, 1.9900e+02, 2.5600e+02,\n",
       "         4.6300e+02, 9.7500e+02, 3.1820e+03, 1.3197e+04, 1.3427e+04,\n",
       "         1.9180e+03, 4.9200e+02, 1.7500e+02, 7.9000e+01, 4.9000e+01,\n",
       "         3.5000e+01, 2.0000e+01, 1.6000e+01, 9.0000e+00, 4.0000e+00,\n",
       "         3.0000e+00, 1.0000e+00, 0.0000e+00, 2.0000e+00, 1.0000e+00])],\n",
       " array([-2.36390381e+02, -2.29438140e+02, -2.22485899e+02, -2.15533658e+02,\n",
       "        -2.08581417e+02, -2.01629176e+02, -1.94676935e+02, -1.87724695e+02,\n",
       "        -1.80772454e+02, -1.73820213e+02, -1.66867972e+02, -1.59915731e+02,\n",
       "        -1.52963490e+02, -1.46011249e+02, -1.39059008e+02, -1.32106767e+02,\n",
       "        -1.25154526e+02, -1.18202285e+02, -1.11250045e+02, -1.04297804e+02,\n",
       "        -9.73455627e+01, -9.03933218e+01, -8.34410809e+01, -7.64888400e+01,\n",
       "        -6.95365991e+01, -6.25843582e+01, -5.56321173e+01, -4.86798764e+01,\n",
       "        -4.17276355e+01, -3.47753946e+01, -2.78231537e+01, -2.08709128e+01,\n",
       "        -1.39186719e+01, -6.96643097e+00, -1.41900635e-02,  6.93805084e+00,\n",
       "         1.38902917e+01,  2.08425327e+01,  2.77947736e+01,  3.47470145e+01,\n",
       "         4.16992554e+01,  4.86514963e+01,  5.56037372e+01,  6.25559781e+01,\n",
       "         6.95082190e+01,  7.64604599e+01,  8.34127008e+01,  9.03649417e+01,\n",
       "         9.73171826e+01,  1.04269424e+02,  1.11221664e+02]),\n",
       " <a list of 2 Lists of Patches objects>)"
      ]
     },
     "execution_count": 30,
     "metadata": {},
     "output_type": "execute_result"
    },
    {
     "data": {
      "image/png": "[encoded data removed]",
      "text/plain": [
       "<matplotlib.figure.Figure at 0x21360703438>"
      ]
     },
     "metadata": {},
     "output_type": "display_data"
    }
   ],
   "source": [
    "type_o = 'summer'\n",
    "summer = cdata[cdata[type_o] == 0]['diff']\n",
    "winter = cdata[cdata[type_o] == 1]['diff']\n",
    "\n",
    "print(stats.ttest_ind(summer, winter, equal_var=False))\n",
    "\n",
    "plt.hist([summer, winter], bins = 50)"
   ]
  }
 ],
 "metadata": {
  "kernelspec": {
   "display_name": "Python 3",
   "language": "python",
   "name": "python3"
  },
  "language_info": {
   "codemirror_mode": {
    "name": "ipython",
    "version": 3
   },
   "file_extension": ".py",
   "mimetype": "text/x-python",
   "name": "python",
   "nbconvert_exporter": "python",
   "pygments_lexer": "ipython3",
   "version": "3.6.4"
  }
 },
 "nbformat": 4,
 "nbformat_minor": 2
}
